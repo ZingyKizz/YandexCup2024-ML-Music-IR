{
 "cells": [
  {
   "cell_type": "code",
   "execution_count": 1,
   "id": "2de407c7-a55f-4e49-91be-8df15ef570f7",
   "metadata": {},
   "outputs": [],
   "source": [
    "import numpy as np\n",
    "import os\n",
    "import pandas as pd\n",
    "import ast"
   ]
  },
  {
   "cell_type": "code",
   "execution_count": 12,
   "id": "9b0f5ff5-f93d-4852-ae5c-0af219e8db9b",
   "metadata": {},
   "outputs": [],
   "source": [
    "\n",
    "\n",
    "def plot_side_by_side(cqt1, cqt2, cqt3):\n",
    "    import matplotlib.pyplot as plt\n",
    "    plt.figure(figsize=(20, 6))\n",
    "    \n",
    "    # Plot the first CQT spectrogram\n",
    "    plt.subplot(1, 3, 1)\n",
    "    plt.imshow(cqt1, aspect='auto', origin='lower', cmap='gray_r')\n",
    "    plt.colorbar(label='Magnitude db')\n",
    "    plt.title('CQT Spectrogram 1')\n",
    "    plt.xlabel('Time (frames)')\n",
    "    plt.ylabel('Frequency bins')\n",
    "    \n",
    "    # Plot the second CQT spectrogram\n",
    "    plt.subplot(1, 3, 2)\n",
    "    plt.imshow(cqt2, aspect='auto', origin='lower', cmap='gray_r')\n",
    "    plt.colorbar(label='Magnitude db')\n",
    "    plt.title('CQT Spectrogram 2')\n",
    "    plt.xlabel('Time (frames)')\n",
    "    plt.ylabel('Frequency bins')\n",
    "\n",
    "    plt.subplot(1, 3, 3)\n",
    "    plt.imshow(cqt3, aspect='auto', origin='lower', cmap='gray_r')\n",
    "    plt.colorbar(label='Magnitude db')\n",
    "    plt.title('CQT Spectrogram 3')\n",
    "    plt.xlabel('Time (frames)')\n",
    "    plt.ylabel('Frequency bins')\n",
    "    \n",
    "    plt.tight_layout()\n",
    "    plt.show()\n",
    "\n",
    "def compare(cqt1, cqt2, cqt3, fn=None):\n",
    "    if fn is not None:\n",
    "        cqt1 = fn(cqt1)\n",
    "        cqt2 = fn(cqt2)\n",
    "        cqt3 = fn(cqt3)\n",
    "    return plot_side_by_side(cqt1, cqt2, cqt3)"
   ]
  },
  {
   "cell_type": "code",
   "execution_count": 61,
   "id": "df5b0004-998f-492f-8294-10503aff1389",
   "metadata": {},
   "outputs": [
    {
     "data": {
      "text/plain": [
       "314911"
      ]
     },
     "execution_count": 61,
     "metadata": {},
     "output_type": "execute_result"
    }
   ],
   "source": [
    "261020 + 53891"
   ]
  },
  {
   "cell_type": "code",
   "execution_count": 2,
   "id": "fbb6e11b-dcbe-4f38-8695-7d3270ea225b",
   "metadata": {},
   "outputs": [],
   "source": [
    "def read_clique2versions(clique2versions_path: str) -> dict[int, list[int]]:\n",
    "    import ast\n",
    "    df = pd.read_csv(clique2versions_path, sep=\"\\t\", converters={\"versions\": ast.literal_eval})\n",
    "    clique2tracks = df.set_index(\"clique\")[\"versions\"].to_dict()\n",
    "    return clique2tracks"
   ]
  },
  {
   "cell_type": "code",
   "execution_count": 66,
   "id": "309430a2-f10b-4412-a52f-5be01e6f85f1",
   "metadata": {},
   "outputs": [],
   "source": [
    "clique2tracks = read_clique2versions(\"/home/yskhnykov/yandex_cup/data/raw/cliques2versions.tsv\")"
   ]
  },
  {
   "cell_type": "code",
   "execution_count": 67,
   "id": "7ee48375-8964-4950-8410-c73739199bf9",
   "metadata": {},
   "outputs": [],
   "source": [
    "RAW_DATA_PATH = \"/home/yskhnykov/yandex_cup/data/raw\""
   ]
  },
  {
   "cell_type": "code",
   "execution_count": 68,
   "id": "092120be-5f0e-45f2-89b6-43711821360b",
   "metadata": {},
   "outputs": [],
   "source": [
    "tracks = {\n",
    "    int(x.split(\".\")[0]): np.load(os.path.join(RAW_DATA_PATH, f\"train/{x}\")) for x in os.listdir(os.path.join(RAW_DATA_PATH, \"train\"))\n",
    "}"
   ]
  },
  {
   "cell_type": "code",
   "execution_count": 79,
   "id": "12426f79-3520-4f23-947b-550bdfc2e69e",
   "metadata": {},
   "outputs": [],
   "source": [
    "bad_items = [\n",
    "    (k, np.std(v, axis=0).min(), np.std(v, axis=1).min()) \n",
    "    for k, v in tracks.items() \n",
    "    if np.any(np.std(v, axis=0) < 1) or np.any(np.std(v, axis=1) < 1)\n",
    "]"
   ]
  },
  {
   "cell_type": "code",
   "execution_count": 80,
   "id": "51aed53b-8e1e-49e1-91ea-14a700d39501",
   "metadata": {},
   "outputs": [
    {
     "data": {
      "text/plain": [
       "8510"
      ]
     },
     "execution_count": 80,
     "metadata": {},
     "output_type": "execute_result"
    }
   ],
   "source": [
    "len(bad_items)"
   ]
  },
  {
   "cell_type": "code",
   "execution_count": 81,
   "id": "f9c1a143-155a-4d79-964b-6e60de64dd16",
   "metadata": {},
   "outputs": [],
   "source": [
    "track2clique = {\n",
    "    track: clique for clique, tracks in clique2tracks.items() for track in tracks\n",
    "}"
   ]
  },
  {
   "cell_type": "code",
   "execution_count": 82,
   "id": "a660d626-ed39-497d-bcfc-fabad1779083",
   "metadata": {},
   "outputs": [
    {
     "data": {
      "text/plain": [
       "[345963,\n",
       " 356274,\n",
       " 62836,\n",
       " 147879,\n",
       " 147996,\n",
       " 170065,\n",
       " 178482,\n",
       " 324743,\n",
       " 327413,\n",
       " 331879,\n",
       " 334108,\n",
       " 76723,\n",
       " 189583,\n",
       " 238349,\n",
       " 239578,\n",
       " 223302,\n",
       " 250623,\n",
       " 203781,\n",
       " 60986,\n",
       " 61565]"
      ]
     },
     "execution_count": 82,
     "metadata": {},
     "output_type": "execute_result"
    }
   ],
   "source": [
    "clique2tracks[track2clique[170065]]"
   ]
  },
  {
   "cell_type": "code",
   "execution_count": 83,
   "id": "24a993ae-6f22-4852-bc17-e835e9102717",
   "metadata": {},
   "outputs": [
    {
     "data": {
      "image/png": "[encoded data removed]",
      "text/plain": [
       "<Figure size 2000x600 with 6 Axes>"
      ]
     },
     "metadata": {},
     "output_type": "display_data"
    }
   ],
   "source": [
    "cqt1 = np.load(os.path.join(RAW_DATA_PATH, \"train/345963.npy\"))\n",
    "cqt2 = np.load(os.path.join(RAW_DATA_PATH, \"train/170065.npy\"))\n",
    "cqt3 = np.load(os.path.join(RAW_DATA_PATH, \"train/61565.npy\"))\n",
    "\n",
    "compare(cqt1, cqt2, cqt3)"
   ]
  },
  {
   "cell_type": "code",
   "execution_count": 84,
   "id": "80863577-3066-4453-9638-8a0cade89c9d",
   "metadata": {},
   "outputs": [],
   "source": [
    "res = {}\n",
    "bad_items = set([b[0] for b in bad_items])\n",
    "for clique, ctracks in clique2tracks.items():\n",
    "    new_tracks = [t for t in ctracks if t not in bad_items]\n",
    "    if len(new_tracks) > 1:\n",
    "        res[clique] = new_tracks"
   ]
  },
  {
   "cell_type": "code",
   "execution_count": 85,
   "id": "6abd95b5-0c6d-4b84-8851-ffefe70c962e",
   "metadata": {},
   "outputs": [],
   "source": [
    "new_df = pd.DataFrame({\"clique\": list(res.keys()), \"versions\": list(res.values())})"
   ]
  },
  {
   "cell_type": "code",
   "execution_count": 86,
   "id": "b2c75702-8123-4ca6-884d-4a7c7fe6cd3d",
   "metadata": {},
   "outputs": [],
   "source": [
    "new_df.to_csv(\"/home/yskhnykov/yandex_cup/data/raw/cliques2versions_cleaned_8500.tsv\", index=False, sep=\"\\t\")"
   ]
  },
  {
   "cell_type": "code",
   "execution_count": 42,
   "id": "b0048860-1d19-48bc-9c3f-5339db333d59",
   "metadata": {},
   "outputs": [
    {
     "data": {
      "text/html": [
       "<div>\n",
       "<style scoped>\n",
       "    .dataframe tbody tr th:only-of-type {\n",
       "        vertical-align: middle;\n",
       "    }\n",
       "\n",
       "    .dataframe tbody tr th {\n",
       "        vertical-align: top;\n",
       "    }\n",
       "\n",
       "    .dataframe thead th {\n",
       "        text-align: right;\n",
       "    }\n",
       "</style>\n",
       "<table border=\"1\" class=\"dataframe\">\n",
       "  <thead>\n",
       "    <tr style=\"text-align: right;\">\n",
       "      <th></th>\n",
       "      <th>clique</th>\n",
       "      <th>versions</th>\n",
       "    </tr>\n",
       "  </thead>\n",
       "  <tbody>\n",
       "    <tr>\n",
       "      <th>0</th>\n",
       "      <td>39475</td>\n",
       "      <td>[343223, 361210, 114472, 134744, 271362, 30747...</td>\n",
       "    </tr>\n",
       "    <tr>\n",
       "      <th>1</th>\n",
       "      <td>20077</td>\n",
       "      <td>[343224, 350590, 170706, 266043, 314556, 30764...</td>\n",
       "    </tr>\n",
       "    <tr>\n",
       "      <th>2</th>\n",
       "      <td>22290</td>\n",
       "      <td>[343225, 343986, 344624, 345116, 345312, 33796...</td>\n",
       "    </tr>\n",
       "    <tr>\n",
       "      <th>3</th>\n",
       "      <td>17098</td>\n",
       "      <td>[343226, 220430]</td>\n",
       "    </tr>\n",
       "    <tr>\n",
       "      <th>4</th>\n",
       "      <td>26349</td>\n",
       "      <td>[343227, 286579]</td>\n",
       "    </tr>\n",
       "    <tr>\n",
       "      <th>...</th>\n",
       "      <td>...</td>\n",
       "      <td>...</td>\n",
       "    </tr>\n",
       "    <tr>\n",
       "      <th>41591</th>\n",
       "      <td>16898</td>\n",
       "      <td>[70624, 76088]</td>\n",
       "    </tr>\n",
       "    <tr>\n",
       "      <th>41592</th>\n",
       "      <td>31616</td>\n",
       "      <td>[70632, 76025]</td>\n",
       "    </tr>\n",
       "    <tr>\n",
       "      <th>41593</th>\n",
       "      <td>40137</td>\n",
       "      <td>[71481, 73797]</td>\n",
       "    </tr>\n",
       "    <tr>\n",
       "      <th>41594</th>\n",
       "      <td>21450</td>\n",
       "      <td>[71855, 74678]</td>\n",
       "    </tr>\n",
       "    <tr>\n",
       "      <th>41595</th>\n",
       "      <td>27972</td>\n",
       "      <td>[72629, 75917]</td>\n",
       "    </tr>\n",
       "  </tbody>\n",
       "</table>\n",
       "<p>41596 rows × 2 columns</p>\n",
       "</div>"
      ],
      "text/plain": [
       "       clique                                           versions\n",
       "0       39475  [343223, 361210, 114472, 134744, 271362, 30747...\n",
       "1       20077  [343224, 350590, 170706, 266043, 314556, 30764...\n",
       "2       22290  [343225, 343986, 344624, 345116, 345312, 33796...\n",
       "3       17098                                   [343226, 220430]\n",
       "4       26349                                   [343227, 286579]\n",
       "...       ...                                                ...\n",
       "41591   16898                                     [70624, 76088]\n",
       "41592   31616                                     [70632, 76025]\n",
       "41593   40137                                     [71481, 73797]\n",
       "41594   21450                                     [71855, 74678]\n",
       "41595   27972                                     [72629, 75917]\n",
       "\n",
       "[41596 rows x 2 columns]"
      ]
     },
     "execution_count": 42,
     "metadata": {},
     "output_type": "execute_result"
    }
   ],
   "source": [
    "pd.read_csv(\"/home/yskhnykov/yandex_cup/data/raw/cliques2versions_cleaned_axis_0_1_3.tsv\", sep=\"\\t\", converters={\"versions\": ast.literal_eval})"
   ]
  },
  {
   "cell_type": "code",
   "execution_count": 87,
   "id": "369e1f0c-2467-41db-84b4-4581a1558f7b",
   "metadata": {},
   "outputs": [],
   "source": [
    "bad_items = [\n",
    "    (k, np.std(v, axis=0).min(), np.std(v, axis=1).min()) \n",
    "    for k, v in tracks.items() \n",
    "    if np.any(np.std(v, axis=0) < 1.0)\n",
    "]"
   ]
  },
  {
   "cell_type": "code",
   "execution_count": 88,
   "id": "c14810bd-7e2c-46d3-b1f2-1d16cf00cb0d",
   "metadata": {},
   "outputs": [
    {
     "data": {
      "text/plain": [
       "535"
      ]
     },
     "execution_count": 88,
     "metadata": {},
     "output_type": "execute_result"
    }
   ],
   "source": [
    "len(bad_items)"
   ]
  },
  {
   "cell_type": "code",
   "execution_count": 89,
   "id": "9f8e686a-1ca7-482b-a1dc-8fedf231fcb6",
   "metadata": {},
   "outputs": [],
   "source": [
    "res = {}\n",
    "bad_items_set = set([b[0] for b in bad_items])\n",
    "for clique, ctracks in clique2tracks.items():\n",
    "    new_tracks = [t for t in ctracks if t not in bad_items_set]\n",
    "    if len(new_tracks) > 1:\n",
    "        res[clique] = new_tracks"
   ]
  },
  {
   "cell_type": "code",
   "execution_count": 90,
   "id": "977daeec-324c-4df7-a44d-841b2e4a639c",
   "metadata": {},
   "outputs": [],
   "source": [
    "new_df = pd.DataFrame({\"clique\": list(res.keys()), \"versions\": list(res.values())})"
   ]
  },
  {
   "cell_type": "code",
   "execution_count": 91,
   "id": "6be605bc-afa6-47fe-b976-1a4d7436befd",
   "metadata": {},
   "outputs": [],
   "source": [
    "new_df.to_csv(\"/home/yskhnykov/yandex_cup/data/raw/cliques2versions_cleaned_500.tsv\", index=False, sep=\"\\t\")"
   ]
  },
  {
   "cell_type": "code",
   "execution_count": 58,
   "id": "b841e074-accb-4ceb-b87e-92494bae0b65",
   "metadata": {},
   "outputs": [
    {
     "data": {
      "text/html": [
       "<div>\n",
       "<style scoped>\n",
       "    .dataframe tbody tr th:only-of-type {\n",
       "        vertical-align: middle;\n",
       "    }\n",
       "\n",
       "    .dataframe tbody tr th {\n",
       "        vertical-align: top;\n",
       "    }\n",
       "\n",
       "    .dataframe thead th {\n",
       "        text-align: right;\n",
       "    }\n",
       "</style>\n",
       "<table border=\"1\" class=\"dataframe\">\n",
       "  <thead>\n",
       "    <tr style=\"text-align: right;\">\n",
       "      <th></th>\n",
       "      <th>clique</th>\n",
       "      <th>versions</th>\n",
       "    </tr>\n",
       "  </thead>\n",
       "  <tbody>\n",
       "    <tr>\n",
       "      <th>0</th>\n",
       "      <td>39475</td>\n",
       "      <td>[343223, 361210, 114472, 134744, 271362, 30747...</td>\n",
       "    </tr>\n",
       "    <tr>\n",
       "      <th>1</th>\n",
       "      <td>20077</td>\n",
       "      <td>[343224, 350590, 170706, 266043, 314556, 30764...</td>\n",
       "    </tr>\n",
       "    <tr>\n",
       "      <th>2</th>\n",
       "      <td>22290</td>\n",
       "      <td>[343225, 343986, 344624, 345116, 345312, 33796...</td>\n",
       "    </tr>\n",
       "    <tr>\n",
       "      <th>3</th>\n",
       "      <td>17098</td>\n",
       "      <td>[343226, 220430]</td>\n",
       "    </tr>\n",
       "    <tr>\n",
       "      <th>4</th>\n",
       "      <td>26349</td>\n",
       "      <td>[343227, 286579]</td>\n",
       "    </tr>\n",
       "    <tr>\n",
       "      <th>...</th>\n",
       "      <td>...</td>\n",
       "      <td>...</td>\n",
       "    </tr>\n",
       "    <tr>\n",
       "      <th>41494</th>\n",
       "      <td>16898</td>\n",
       "      <td>[70624, 76088]</td>\n",
       "    </tr>\n",
       "    <tr>\n",
       "      <th>41495</th>\n",
       "      <td>31616</td>\n",
       "      <td>[70632, 76025]</td>\n",
       "    </tr>\n",
       "    <tr>\n",
       "      <th>41496</th>\n",
       "      <td>40137</td>\n",
       "      <td>[71481, 73797]</td>\n",
       "    </tr>\n",
       "    <tr>\n",
       "      <th>41497</th>\n",
       "      <td>21450</td>\n",
       "      <td>[71855, 74678]</td>\n",
       "    </tr>\n",
       "    <tr>\n",
       "      <th>41498</th>\n",
       "      <td>27972</td>\n",
       "      <td>[72629, 75917]</td>\n",
       "    </tr>\n",
       "  </tbody>\n",
       "</table>\n",
       "<p>41499 rows × 2 columns</p>\n",
       "</div>"
      ],
      "text/plain": [
       "       clique                                           versions\n",
       "0       39475  [343223, 361210, 114472, 134744, 271362, 30747...\n",
       "1       20077  [343224, 350590, 170706, 266043, 314556, 30764...\n",
       "2       22290  [343225, 343986, 344624, 345116, 345312, 33796...\n",
       "3       17098                                   [343226, 220430]\n",
       "4       26349                                   [343227, 286579]\n",
       "...       ...                                                ...\n",
       "41494   16898                                     [70624, 76088]\n",
       "41495   31616                                     [70632, 76025]\n",
       "41496   40137                                     [71481, 73797]\n",
       "41497   21450                                     [71855, 74678]\n",
       "41498   27972                                     [72629, 75917]\n",
       "\n",
       "[41499 rows x 2 columns]"
      ]
     },
     "execution_count": 58,
     "metadata": {},
     "output_type": "execute_result"
    }
   ],
   "source": [
    "pd.read_csv(\"/home/yskhnykov/yandex_cup/data/raw/cliques2versions_cleaned_std_2034.tsv\", sep=\"\\t\", converters={\"versions\": ast.literal_eval})"
   ]
  },
  {
   "cell_type": "code",
   "execution_count": 52,
   "id": "2d5d427b-98b5-49ca-9544-36683a15b134",
   "metadata": {},
   "outputs": [
    {
     "data": {
      "text/plain": [
       "np.int64(314939)"
      ]
     },
     "execution_count": 52,
     "metadata": {},
     "output_type": "execute_result"
    }
   ],
   "source": [
    "df[\"versions\"].str.len().sum()"
   ]
  },
  {
   "cell_type": "code",
   "execution_count": 42,
   "id": "1249440b-81a9-4c3e-9ee1-c53b89aa964d",
   "metadata": {},
   "outputs": [],
   "source": [
    "from collections import defaultdict\n",
    "\n",
    "def save_tracks_to_file(data, output_path):\n",
    "    df = pd.DataFrame(\n",
    "        {\n",
    "            'query_trackid': list(data.keys()),\n",
    "            'track_ids': [\n",
    "                ' '.join(map(lambda x: str(int(x)), track_ids)) for track_ids in data.values()\n",
    "            ],\n",
    "        }\n",
    "    )\n",
    "    df['output'] = df['query_trackid'].astype(str) + ' ' + df['track_ids'].astype(str)\n",
    "    df.sort_values(\"query_trackid\", inplace=True)\n",
    "    df[['output']].to_csv(output_path, index=False, header=False)\n",
    "\n",
    "\n",
    "CANDIDATES_FROM_FOLDS = 100\n",
    "TOP_K = 100\n",
    "\n",
    "def get_neighbors(df_path):\n",
    "    df = pd.read_csv(df_path, header=None)\n",
    "    track2sourceneighbors = {}\n",
    "    for row in df.itertuples(index=False):\n",
    "        track, *original_neighbors = map(int, row[0].split())\n",
    "        track2sourceneighbors[track] = original_neighbors\n",
    "    return track2sourceneighbors\n",
    "\n",
    "\n",
    "def reduce_by_folds(fold_top_tracks, importance_ranks=None):\n",
    "    if importance_ranks is None:\n",
    "        importance_ranks = [0] * len(fold_top_tracks)\n",
    "    ranks = {}\n",
    "    counter = {}\n",
    "    for ir, fold in zip(importance_ranks, fold_top_tracks):\n",
    "        for track_id, top_tracks in fold.items():\n",
    "            if track_id not in ranks:\n",
    "                ranks[track_id] = defaultdict(int)\n",
    "                counter[track_id] = defaultdict(int)\n",
    "            for rank, recommended_track in enumerate(top_tracks):\n",
    "                ranks[track_id][recommended_track] += ir + rank\n",
    "                counter[track_id][recommended_track] += 1\n",
    "\n",
    "    candidates_with_score = {}\n",
    "    for track_id, candidates_with_rank in ranks.items():\n",
    "        if track_id not in candidates_with_score:\n",
    "            candidates_with_score[track_id] = defaultdict(float)\n",
    "        for recommended_track, total_rank in candidates_with_rank.items():\n",
    "            cnt = counter[track_id][recommended_track]\n",
    "            total_rank += CANDIDATES_FROM_FOLDS * (len(fold_top_tracks) - cnt)\n",
    "            candidates_with_score[track_id][recommended_track] = total_rank\n",
    "\n",
    "    res = {}\n",
    "    for track_id, cws in candidates_with_score.items():\n",
    "        best_tracks = [x[0] for x in sorted(cws.items(), key=lambda x: x[1])[:TOP_K]]\n",
    "        res[track_id] = best_tracks\n",
    "\n",
    "    return res"
   ]
  },
  {
   "cell_type": "code",
   "execution_count": 47,
   "id": "44cd7b68-d5a5-449d-aaf4-487cb46e1390",
   "metadata": {},
   "outputs": [],
   "source": [
    "data = reduce_by_folds([\n",
    "    get_neighbors(\"artifacts_TinyVIT_6Folds/submissions/submission.csv\"),\n",
    "    get_neighbors(\"artifacts_hgnetv2_b5_after_check_semihard_6folds_27_17_06/submissions/submission.csv\"),\n",
    "    get_neighbors(\"artifacts_hgnetv2_b5_with_aug_label_sm_6folds_27_03_56/submissions/submission.csv\"),\n",
    "    get_neighbors(\"artifacts_gcresnext50ts_6folds/submissions/submission.csv\"),\n",
    "], importance_ranks=[0.5, 0.1, 0.2, 0.6])"
   ]
  },
  {
   "cell_type": "code",
   "execution_count": 48,
   "id": "578c43bf-fbe0-4033-8782-5d58a9d06101",
   "metadata": {},
   "outputs": [],
   "source": [
    "save_tracks_to_file(data, \"blend_2.csv\")"
   ]
  },
  {
   "cell_type": "code",
   "execution_count": 46,
   "id": "ec296c87-8879-4f98-8d44-db869d35cf1c",
   "metadata": {},
   "outputs": [
    {
     "data": {
      "text/html": [
       "<div>\n",
       "<style scoped>\n",
       "    .dataframe tbody tr th:only-of-type {\n",
       "        vertical-align: middle;\n",
       "    }\n",
       "\n",
       "    .dataframe tbody tr th {\n",
       "        vertical-align: top;\n",
       "    }\n",
       "\n",
       "    .dataframe thead th {\n",
       "        text-align: right;\n",
       "    }\n",
       "</style>\n",
       "<table border=\"1\" class=\"dataframe\">\n",
       "  <thead>\n",
       "    <tr style=\"text-align: right;\">\n",
       "      <th></th>\n",
       "      <th>0</th>\n",
       "    </tr>\n",
       "  </thead>\n",
       "  <tbody>\n",
       "    <tr>\n",
       "      <th>0</th>\n",
       "      <td>1 12945 47143 27655 39321 40058 5827 1756 1182...</td>\n",
       "    </tr>\n",
       "    <tr>\n",
       "      <th>1</th>\n",
       "      <td>2 25683 21292 20243 22052 4190 27920 11164 324...</td>\n",
       "    </tr>\n",
       "    <tr>\n",
       "      <th>2</th>\n",
       "      <td>3 38279 13587 36812 8745 53305 20951 48340 147...</td>\n",
       "    </tr>\n",
       "    <tr>\n",
       "      <th>3</th>\n",
       "      <td>4 48455 25335 22072 10076 21241 21167 9738 105...</td>\n",
       "    </tr>\n",
       "    <tr>\n",
       "      <th>4</th>\n",
       "      <td>5 51064 29937 16196 40623 22929 13022 41892 53...</td>\n",
       "    </tr>\n",
       "    <tr>\n",
       "      <th>...</th>\n",
       "      <td>...</td>\n",
       "    </tr>\n",
       "    <tr>\n",
       "      <th>55165</th>\n",
       "      <td>55166 52856 39246 16489 4686 14095 50058 30720...</td>\n",
       "    </tr>\n",
       "    <tr>\n",
       "      <th>55166</th>\n",
       "      <td>55167 52404 7207 49439 24895 1939 53548 15883 ...</td>\n",
       "    </tr>\n",
       "    <tr>\n",
       "      <th>55167</th>\n",
       "      <td>55168 54677 34744 48114 28641 49432 1751 40635...</td>\n",
       "    </tr>\n",
       "    <tr>\n",
       "      <th>55168</th>\n",
       "      <td>55169 18699 46842 8386 3707 32067 13514 20624 ...</td>\n",
       "    </tr>\n",
       "    <tr>\n",
       "      <th>55169</th>\n",
       "      <td>55170 18088 3774 53852 18062 40169 28795 23488...</td>\n",
       "    </tr>\n",
       "  </tbody>\n",
       "</table>\n",
       "<p>55170 rows × 1 columns</p>\n",
       "</div>"
      ],
      "text/plain": [
       "                                                       0\n",
       "0      1 12945 47143 27655 39321 40058 5827 1756 1182...\n",
       "1      2 25683 21292 20243 22052 4190 27920 11164 324...\n",
       "2      3 38279 13587 36812 8745 53305 20951 48340 147...\n",
       "3      4 48455 25335 22072 10076 21241 21167 9738 105...\n",
       "4      5 51064 29937 16196 40623 22929 13022 41892 53...\n",
       "...                                                  ...\n",
       "55165  55166 52856 39246 16489 4686 14095 50058 30720...\n",
       "55166  55167 52404 7207 49439 24895 1939 53548 15883 ...\n",
       "55167  55168 54677 34744 48114 28641 49432 1751 40635...\n",
       "55168  55169 18699 46842 8386 3707 32067 13514 20624 ...\n",
       "55169  55170 18088 3774 53852 18062 40169 28795 23488...\n",
       "\n",
       "[55170 rows x 1 columns]"
      ]
     },
     "execution_count": 46,
     "metadata": {},
     "output_type": "execute_result"
    }
   ],
   "source": [
    "pd.read_csv(\"artifacts_hgnetv2_b5_after_check_semihard_6folds_27_17_06/submissions/submission.csv\", header=None)"
   ]
  },
  {
   "cell_type": "code",
   "execution_count": 45,
   "id": "e41bd240-4496-465b-ba6b-f2a816ce3e56",
   "metadata": {},
   "outputs": [
    {
     "data": {
      "text/html": [
       "<div>\n",
       "<style scoped>\n",
       "    .dataframe tbody tr th:only-of-type {\n",
       "        vertical-align: middle;\n",
       "    }\n",
       "\n",
       "    .dataframe tbody tr th {\n",
       "        vertical-align: top;\n",
       "    }\n",
       "\n",
       "    .dataframe thead th {\n",
       "        text-align: right;\n",
       "    }\n",
       "</style>\n",
       "<table border=\"1\" class=\"dataframe\">\n",
       "  <thead>\n",
       "    <tr style=\"text-align: right;\">\n",
       "      <th></th>\n",
       "      <th>0</th>\n",
       "    </tr>\n",
       "  </thead>\n",
       "  <tbody>\n",
       "    <tr>\n",
       "      <th>0</th>\n",
       "      <td>1 12945 27655 39321 40058 5827 1756 25698 4492...</td>\n",
       "    </tr>\n",
       "    <tr>\n",
       "      <th>1</th>\n",
       "      <td>2 25683 27920 267 20243 16984 3608 4190 32499 ...</td>\n",
       "    </tr>\n",
       "    <tr>\n",
       "      <th>2</th>\n",
       "      <td>3 38279 36812 20951 18556 41077 2451 1180 4050...</td>\n",
       "    </tr>\n",
       "    <tr>\n",
       "      <th>3</th>\n",
       "      <td>4 25335 21167 2088 47806 21241 25663 10076 366...</td>\n",
       "    </tr>\n",
       "    <tr>\n",
       "      <th>4</th>\n",
       "      <td>5 51064 25553 22929 16196 29937 53109 38566 43...</td>\n",
       "    </tr>\n",
       "    <tr>\n",
       "      <th>...</th>\n",
       "      <td>...</td>\n",
       "    </tr>\n",
       "    <tr>\n",
       "      <th>55165</th>\n",
       "      <td>55166 52856 39246 16489 50058 14095 4686 20379...</td>\n",
       "    </tr>\n",
       "    <tr>\n",
       "      <th>55166</th>\n",
       "      <td>55167 52404 1939 24895 49439 7207 53548 15883 ...</td>\n",
       "    </tr>\n",
       "    <tr>\n",
       "      <th>55167</th>\n",
       "      <td>55168 54677 49432 47169 15564 28641 7530 34744...</td>\n",
       "    </tr>\n",
       "    <tr>\n",
       "      <th>55168</th>\n",
       "      <td>55169 18699 46842 13514 49274 36851 12239 2062...</td>\n",
       "    </tr>\n",
       "    <tr>\n",
       "      <th>55169</th>\n",
       "      <td>55170 18088 18062 40169 3774 53852 9440 28795 ...</td>\n",
       "    </tr>\n",
       "  </tbody>\n",
       "</table>\n",
       "<p>55170 rows × 1 columns</p>\n",
       "</div>"
      ],
      "text/plain": [
       "                                                       0\n",
       "0      1 12945 27655 39321 40058 5827 1756 25698 4492...\n",
       "1      2 25683 27920 267 20243 16984 3608 4190 32499 ...\n",
       "2      3 38279 36812 20951 18556 41077 2451 1180 4050...\n",
       "3      4 25335 21167 2088 47806 21241 25663 10076 366...\n",
       "4      5 51064 25553 22929 16196 29937 53109 38566 43...\n",
       "...                                                  ...\n",
       "55165  55166 52856 39246 16489 50058 14095 4686 20379...\n",
       "55166  55167 52404 1939 24895 49439 7207 53548 15883 ...\n",
       "55167  55168 54677 49432 47169 15564 28641 7530 34744...\n",
       "55168  55169 18699 46842 13514 49274 36851 12239 2062...\n",
       "55169  55170 18088 18062 40169 3774 53852 9440 28795 ...\n",
       "\n",
       "[55170 rows x 1 columns]"
      ]
     },
     "execution_count": 45,
     "metadata": {},
     "output_type": "execute_result"
    }
   ],
   "source": [
    "pd.read_csv(\"blend.csv\", header=None)"
   ]
  },
  {
   "cell_type": "code",
   "execution_count": null,
   "id": "2613ecc2-4752-4110-95a1-09ac10ef7811",
   "metadata": {},
   "outputs": [],
   "source": []
  }
 ],
 "metadata": {
  "kernelspec": {
   "display_name": "Python 3 (ipykernel)",
   "language": "python",
   "name": "python3"
  },
  "language_info": {
   "codemirror_mode": {
    "name": "ipython",
    "version": 3
   },
   "file_extension": ".py",
   "mimetype": "text/x-python",
   "name": "python",
   "nbconvert_exporter": "python",
   "pygments_lexer": "ipython3",
   "version": "3.12.7"
  }
 },
 "nbformat": 4,
 "nbformat_minor": 5
}
