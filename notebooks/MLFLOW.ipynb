{
 "cells": [
  {
   "cell_type": "code",
   "execution_count": 1,
   "id": "dfdc90ce-707d-47d7-9aa6-31b97cd1c56d",
   "metadata": {},
   "outputs": [],
   "source": [
    "%load_ext autoreload\n",
    "%autoreload 2"
   ]
  },
  {
   "cell_type": "code",
   "execution_count": 2,
   "id": "5f22e072-cfba-4b32-a7d9-60338882aacb",
   "metadata": {},
   "outputs": [],
   "source": [
    "import sys\n",
    "import os\n",
    "import glob\n",
    "import pandas as pd\n",
    "import polars as pl\n",
    "\n",
    "import gc\n",
    "import logging\n",
    "\n",
    "import hydra\n",
    "import numpy as np\n",
    "import copy\n",
    "import torch\n",
    "import torchinfo\n",
    "from dotenv import load_dotenv\n",
    "from hydra.utils import call, instantiate\n",
    "from omegaconf import DictConfig, OmegaConf\n",
    "from torch.cuda.amp import GradScaler\n",
    "\n",
    "from csi.base.utils import init_model, seed_everything\n",
    "from csi.submission import make_submission\n",
    "from csi.training.data.dataset import filter_tracks\n",
    "from csi.training.loop.loop import train_one_epoch\n",
    "from csi.training.loop.utils import (\n",
    "    clean_old_content,\n",
    "    freeze_layers,\n",
    "    load_fold_checkpoint,\n",
    "    save_checkpoint,\n",
    ")\n",
    "from csi.training.metrics.ndcg import compute_ndcg\n",
    "import numpy as np\n",
    "import torch\n",
    "from torch import nn\n",
    "from torch.utils.data import DataLoader\n",
    "\n",
    "from csi.base.model.predict import predict\n",
    "from csi.base.utils import batch_to_device\n",
    "from csi.training.loop.utils import split_by_batch_size\n",
    "from tqdm import tqdm\n",
    "from collections import defaultdict\n",
    "\n",
    "logger = logging.getLogger(__name__)\n",
    "logger.info = print\n",
    "\n",
    "from tqdm import tqdm\n",
    "\n",
    "from mlflow import MlflowClient\n",
    "import logging\n",
    "import mlflow\n",
    "from pathlib import Path\n",
    "\n",
    "sys.path.append(\"../\")"
   ]
  },
  {
   "cell_type": "code",
   "execution_count": 3,
   "id": "75a70bdc-0392-4461-b1cc-2c43305a7627",
   "metadata": {},
   "outputs": [],
   "source": [
    "FINAL_ARTIFACTS = \"final_artifacts_v2\"\n",
    "RESULTS = \"results_v2\"\n",
    "POWER = 500"
   ]
  },
  {
   "cell_type": "code",
   "execution_count": 5,
   "id": "e9ef4b82-8d80-4f66-974b-74ec4514b49a",
   "metadata": {},
   "outputs": [],
   "source": [
    "client = MlflowClient()\n",
    "experiment_id = client.get_experiment_by_name(\"test-test\").experiment_id"
   ]
  },
  {
   "cell_type": "code",
   "execution_count": 6,
   "id": "69c3363d-cde2-40fc-acd6-3cacc99407af",
   "metadata": {},
   "outputs": [],
   "source": [
    "runs = mlflow.search_runs(experiment_ids=[experiment_id])"
   ]
  },
  {
   "cell_type": "code",
   "execution_count": 7,
   "id": "15d91d9b-a9cc-4b21-ab8f-8ee07c90c433",
   "metadata": {},
   "outputs": [],
   "source": [
    "good_runs = runs[runs[\"metrics.AvgNDCG_at_100\"] > 0.536]"
   ]
  },
  {
   "cell_type": "code",
   "execution_count": 8,
   "id": "706019ae-214d-449c-b4a3-e5b09aff36be",
   "metadata": {},
   "outputs": [],
   "source": [
    "base_path = Path(os.path.join(\"/home/yskhnykov/yandex_cup/\", FINAL_ARTIFACTS))"
   ]
  },
  {
   "cell_type": "code",
   "execution_count": 10,
   "id": "fcef59cd-f2f4-4086-978a-39eb861d0026",
   "metadata": {
    "scrolled": true
   },
   "outputs": [
    {
     "data": {
      "application/vnd.jupyter.widget-view+json": {
       "model_id": "37954eb96cc84ff9a78e359797aaec2a",
       "version_major": 2,
       "version_minor": 0
      },
      "text/plain": [
       "Downloading artifacts:   0%|          | 0/5 [00:00<?, ?it/s]"
      ]
     },
     "metadata": {},
     "output_type": "display_data"
    },
    {
     "data": {
      "application/vnd.jupyter.widget-view+json": {
       "model_id": "1c0c58ee9f744a5db23bbd78c57f4ae3",
       "version_major": 2,
       "version_minor": 0
      },
      "text/plain": [
       "Downloading artifacts:   0%|          | 0/5 [00:00<?, ?it/s]"
      ]
     },
     "metadata": {},
     "output_type": "display_data"
    },
    {
     "data": {
      "application/vnd.jupyter.widget-view+json": {
       "model_id": "3abe54b245c4431a9676756cb4ac9e7a",
       "version_major": 2,
       "version_minor": 0
      },
      "text/plain": [
       "Downloading artifacts:   0%|          | 0/5 [00:00<?, ?it/s]"
      ]
     },
     "metadata": {},
     "output_type": "display_data"
    },
    {
     "data": {
      "application/vnd.jupyter.widget-view+json": {
       "model_id": "77d6ec4f669e4ce896ebde51dca5aff0",
       "version_major": 2,
       "version_minor": 0
      },
      "text/plain": [
       "Downloading artifacts:   0%|          | 0/5 [00:00<?, ?it/s]"
      ]
     },
     "metadata": {},
     "output_type": "display_data"
    },
    {
     "data": {
      "application/vnd.jupyter.widget-view+json": {
       "model_id": "ec181c75e0684c74a69e39cd854e820c",
       "version_major": 2,
       "version_minor": 0
      },
      "text/plain": [
       "Downloading artifacts:   0%|          | 0/5 [00:00<?, ?it/s]"
      ]
     },
     "metadata": {},
     "output_type": "display_data"
    },
    {
     "data": {
      "application/vnd.jupyter.widget-view+json": {
       "model_id": "1c72d6f0ac52406b9ff940e762ed49c1",
       "version_major": 2,
       "version_minor": 0
      },
      "text/plain": [
       "Downloading artifacts:   0%|          | 0/5 [00:00<?, ?it/s]"
      ]
     },
     "metadata": {},
     "output_type": "display_data"
    },
    {
     "data": {
      "application/vnd.jupyter.widget-view+json": {
       "model_id": "9067da03ff9b46aabad63b84c4a1b4fa",
       "version_major": 2,
       "version_minor": 0
      },
      "text/plain": [
       "Downloading artifacts:   0%|          | 0/5 [00:00<?, ?it/s]"
      ]
     },
     "metadata": {},
     "output_type": "display_data"
    },
    {
     "data": {
      "application/vnd.jupyter.widget-view+json": {
       "model_id": "372a783846ae4e0084c710d1a0f5d80b",
       "version_major": 2,
       "version_minor": 0
      },
      "text/plain": [
       "Downloading artifacts:   0%|          | 0/5 [00:00<?, ?it/s]"
      ]
     },
     "metadata": {},
     "output_type": "display_data"
    },
    {
     "data": {
      "application/vnd.jupyter.widget-view+json": {
       "model_id": "f3242e1153744d139e8fd0f369a727e3",
       "version_major": 2,
       "version_minor": 0
      },
      "text/plain": [
       "Downloading artifacts:   0%|          | 0/5 [00:00<?, ?it/s]"
      ]
     },
     "metadata": {},
     "output_type": "display_data"
    },
    {
     "data": {
      "application/vnd.jupyter.widget-view+json": {
       "model_id": "dbdb07de71164c54a569c60930b6d760",
       "version_major": 2,
       "version_minor": 0
      },
      "text/plain": [
       "Downloading artifacts:   0%|          | 0/5 [00:00<?, ?it/s]"
      ]
     },
     "metadata": {},
     "output_type": "display_data"
    },
    {
     "data": {
      "application/vnd.jupyter.widget-view+json": {
       "model_id": "d9ebdaef8081474daf22a83e34711d9f",
       "version_major": 2,
       "version_minor": 0
      },
      "text/plain": [
       "Downloading artifacts:   0%|          | 0/5 [00:00<?, ?it/s]"
      ]
     },
     "metadata": {},
     "output_type": "display_data"
    },
    {
     "data": {
      "application/vnd.jupyter.widget-view+json": {
       "model_id": "f6fc8a83a8eb405e819b80990a2c2bf8",
       "version_major": 2,
       "version_minor": 0
      },
      "text/plain": [
       "Downloading artifacts:   0%|          | 0/5 [00:00<?, ?it/s]"
      ]
     },
     "metadata": {},
     "output_type": "display_data"
    },
    {
     "data": {
      "application/vnd.jupyter.widget-view+json": {
       "model_id": "0c6c82afc4564b579783bf22f6a7a2f9",
       "version_major": 2,
       "version_minor": 0
      },
      "text/plain": [
       "Downloading artifacts:   0%|          | 0/5 [00:00<?, ?it/s]"
      ]
     },
     "metadata": {},
     "output_type": "display_data"
    },
    {
     "data": {
      "application/vnd.jupyter.widget-view+json": {
       "model_id": "471f2251d0fd45799514f2c509a9c793",
       "version_major": 2,
       "version_minor": 0
      },
      "text/plain": [
       "Downloading artifacts:   0%|          | 0/5 [00:00<?, ?it/s]"
      ]
     },
     "metadata": {},
     "output_type": "display_data"
    }
   ],
   "source": [
    "name2metric = {}\n",
    "for run_id, metric, name in zip(good_runs[\"run_id\"], good_runs[\"metrics.AvgNDCG_at_100\"], good_runs[\"tags.mlflow.runName\"]):\n",
    "    local_path = mlflow.artifacts.download_artifacts(run_id=run_id, dst_path=base_path / name)\n",
    "    name2metric[name] = metric"
   ]
  },
  {
   "cell_type": "code",
   "execution_count": 11,
   "id": "24d2e034-2b84-42f7-898f-9cdc95d055d2",
   "metadata": {},
   "outputs": [],
   "source": [
    "def make_fold_submission(cfg, model, test_loader, candidates_from_fold=300):\n",
    "    embeddings = []\n",
    "    track_ids = []\n",
    "    for batch in test_loader:\n",
    "        batch = batch_to_device(batch, cfg.environment.device)\n",
    "        outs = predict(model, batch)\n",
    "        embs = outs[\"embedding\"]\n",
    "        track_ids.append(outs[\"track_id\"].reshape(-1, 1))\n",
    "        embeddings.append(embs)\n",
    "\n",
    "    embeddings = torch.vstack(embeddings).detach().cpu().numpy()\n",
    "    track_ids = torch.vstack(track_ids).detach().cpu().numpy()\n",
    "\n",
    "    if cfg.nearest_neighbors_search.normalize_embeddings:\n",
    "        embeddings = embeddings / np.linalg.norm(embeddings, axis=1, keepdims=True)\n",
    "\n",
    "    res = {}\n",
    "\n",
    "    emb_indices = np.arange(len(embeddings))\n",
    "    mini_batch_size = 5000\n",
    "    embeddingsT = embeddings.T\n",
    "    for ind in tqdm(split_by_batch_size(emb_indices, mini_batch_size)):\n",
    "        track_id_batch = track_ids[ind]\n",
    "        emb_batch = embeddings[ind]\n",
    "        similarities = np.dot(emb_batch, embeddingsT)\n",
    "        top_k_indices = np.argsort(-similarities, axis=1)[:, : candidates_from_fold + 1]\n",
    "        top_k_indices = top_k_indices[top_k_indices != ind.reshape(-1, 1)]\n",
    "        top_tracks_similarities = np.take_along_axis(similarities, top_k_indices.reshape(len(ind), candidates_from_fold), axis=1)\n",
    "        top_tracks = track_ids[top_k_indices].reshape(len(ind), candidates_from_fold)\n",
    "        for track_id, tracks, sims in zip(track_id_batch.flatten(), top_tracks, top_tracks_similarities):\n",
    "            res[int(track_id)] = [(int(t), float(s)) for t, s in zip(tracks, sims)]\n",
    "    return res"
   ]
  },
  {
   "cell_type": "code",
   "execution_count": 12,
   "id": "7cc6f2c0-fe3f-4e3a-bdbe-a140ba7e6709",
   "metadata": {},
   "outputs": [],
   "source": [
    "def init_cfg(cfg_path):\n",
    "    from hydra import compose, initialize\n",
    "    from omegaconf import OmegaConf\n",
    "\n",
    "    with initialize(version_base=None, config_path=str(Path(cfg_path).parent)):\n",
    "        try:\n",
    "            cfg = compose(config_name=\"config\", overrides=[\"+read_filtered_clique2versions=null\"])\n",
    "        except:\n",
    "            cfg = compose(config_name=\"config\", overrides=[\"read_filtered_clique2versions=null\"])\n",
    "\n",
    "    checkpoints_folder = \"artifacts_\" + str(Path(cfg_path).parent.parent.name) + \"/model_checkpoints\"\n",
    "    cfg[\"path_to_fold_checkpoints\"] = checkpoints_folder\n",
    "    cfg[\"read_filtered_clique2versions\"] = None\n",
    "    cfg[\"environment\"][\"device\"] = \"cuda:1\"\n",
    "    return cfg"
   ]
  },
  {
   "cell_type": "code",
   "execution_count": 13,
   "id": "29e7a369-1377-45da-babd-497aacce93a6",
   "metadata": {},
   "outputs": [],
   "source": [
    "def get_predictions(cfg_path, candidates_from_fold=300):\n",
    "    \n",
    "    cfg = init_cfg(cfg_path)\n",
    "    seed_everything(cfg.environment.seed)\n",
    "    \n",
    "    logger.info(\"Reading clique2tracks\")\n",
    "    clique2tracks = call(\n",
    "        cfg.read_clique2versions,\n",
    "        _convert_=\"partial\",\n",
    "    )\n",
    "    \n",
    "    filtered_clique2tracks = call(\n",
    "        cfg.read_filtered_clique2versions,\n",
    "        _convert_=\"partial\",\n",
    "    )\n",
    "    \n",
    "    cliques_splits = call(cfg.split_cliques, clique2tracks, _convert_=\"partial\")\n",
    "    \n",
    "    test_dataset = call(\n",
    "        cfg.test_data.dataset,\n",
    "        tracks_ids=np.load(cfg.test_data.test_ids_path),\n",
    "        track2clique=None,\n",
    "        clique2tracks=None,\n",
    "        _convert_=\"partial\",\n",
    "    )\n",
    "    test_loader = instantiate(cfg.test_data.dataloader, test_dataset, _convert_=\"partial\")\n",
    "    \n",
    "    \n",
    "    fold_results = []\n",
    "    for fold, (\n",
    "        (train_track2clique, train_clique2tracks),\n",
    "        (val_track2clique, val_clique2tracks),\n",
    "    ) in enumerate(cliques_splits):   \n",
    "        model = init_model(cfg).to(cfg.environment.device)\n",
    "    \n",
    "        if cfg.path_to_fold_checkpoints is not None:\n",
    "            model = load_fold_checkpoint(model, cfg.path_to_fold_checkpoints, fold)\n",
    "    \n",
    "        fold_results.append(\n",
    "            make_fold_submission(cfg, model, test_loader, candidates_from_fold)\n",
    "        )\n",
    "        torch.cuda.empty_cache()\n",
    "        gc.collect()\n",
    "    return fold_results"
   ]
  },
  {
   "cell_type": "code",
   "execution_count": 14,
   "id": "82cd920d-2a1f-4964-abb8-bdf4469c782f",
   "metadata": {},
   "outputs": [],
   "source": [
    "def pack_to_df(predictions, metric):\n",
    "    track_ids = []\n",
    "    candidates_ids = []\n",
    "    candidates_scores = []\n",
    "    fold_indices = []\n",
    "    for fold_idx, fold in enumerate(predictions):\n",
    "        for track_id, cands_with_scores in fold.items():\n",
    "            for cand, score in cands_with_scores:\n",
    "                track_ids.append(int(track_id))\n",
    "                candidates_ids.append(int(cand))\n",
    "                candidates_scores.append(float(score))\n",
    "                fold_indices.append(int(fold_idx))\n",
    "    df = pd.DataFrame({\n",
    "        \"track_id\": track_ids, \n",
    "        \"candidate_id\": candidates_ids, \n",
    "        \"candidate_score\": candidates_scores,\n",
    "        \"fold_idx\": fold_indices\n",
    "    }).assign(metric=float(metric))\n",
    "    return df"
   ]
  },
  {
   "cell_type": "code",
   "execution_count": 15,
   "id": "daf27901-16e1-45fa-96c4-8368e3ffa641",
   "metadata": {},
   "outputs": [
    {
     "name": "stdout",
     "output_type": "stream",
     "text": [
      "hgnetv2_b5_metric_learning_pairce_n_6folds04_13_04\n",
      "Skipping existing hgnetv2_b5_metric_learning_pairce_n_6folds04_13_04\n",
      "hgnetv2_b5_metric_learning_pairce_test_0_58_6folds03_17_43\n",
      "Skipping existing hgnetv2_b5_metric_learning_pairce_test_0_58_6folds03_17_43\n",
      "hgnetv2_b5_drop_cliques_test_0_6_6folds01_11_06\n",
      "Skipping existing hgnetv2_b5_drop_cliques_test_0_6_6folds01_11_06\n",
      "hgnetv2_b5_metric_learning_drop_cliques_test_0_6_6folds02_18_27\n",
      "Skipping existing hgnetv2_b5_metric_learning_drop_cliques_test_0_6_6folds02_18_27\n",
      "hgnetv2_b5_metric_learning_cosineemb_test_0_58_6folds04_04_11\n",
      "Skipping existing hgnetv2_b5_metric_learning_cosineemb_test_0_58_6folds04_04_11\n",
      "hgnetv2_b5_metric_learning_big_margin_drop_cliques_test_0_6_6folds02_19_23\n",
      "Skipping existing hgnetv2_b5_metric_learning_big_margin_drop_cliques_test_0_6_6folds02_19_23\n",
      "hgnetv2_b5_metric_learning_pairce_n_6folds04_18_31\n",
      "Reading clique2tracks\n"
     ]
    },
    {
     "name": "stderr",
     "output_type": "stream",
     "text": [
      "100%|██████████████████████████████████████████████████████████████████████████████████████████████████████████████████████████████████████████████████████████████████████| 12/12 [01:26<00:00,  7.18s/it]\n",
      "100%|██████████████████████████████████████████████████████████████████████████████████████████████████████████████████████████████████████████████████████████████████████| 12/12 [01:26<00:00,  7.21s/it]\n",
      "100%|██████████████████████████████████████████████████████████████████████████████████████████████████████████████████████████████████████████████████████████████████████| 12/12 [01:25<00:00,  7.12s/it]\n",
      "100%|██████████████████████████████████████████████████████████████████████████████████████████████████████████████████████████████████████████████████████████████████████| 12/12 [01:26<00:00,  7.23s/it]\n",
      "100%|██████████████████████████████████████████████████████████████████████████████████████████████████████████████████████████████████████████████████████████████████████| 12/12 [01:24<00:00,  7.05s/it]\n",
      "100%|██████████████████████████████████████████████████████████████████████████████████████████████████████████████████████████████████████████████████████████████████████| 12/12 [01:23<00:00,  7.00s/it]\n"
     ]
    },
    {
     "name": "stdout",
     "output_type": "stream",
     "text": [
      "hgnetv2_b5_metric_learning_big_margin_drop_cliques_test_0_58_6folds03_15_20\n",
      "Skipping existing hgnetv2_b5_metric_learning_big_margin_drop_cliques_test_0_58_6folds03_15_20\n",
      "hgnetv2_b5_metric_learning_pairce_test_0_58_6folds04_04_21\n",
      "Skipping existing hgnetv2_b5_metric_learning_pairce_test_0_58_6folds04_04_21\n",
      "hgnetv2_b5_metric_learning_pairce_test_0_58_6folds03_17_35\n",
      "Skipping existing hgnetv2_b5_metric_learning_pairce_test_0_58_6folds03_17_35\n",
      "hgnetv2_b5_metric_learning_pairce_6folds04_13_03\n",
      "Skipping existing hgnetv2_b5_metric_learning_pairce_6folds04_13_03\n",
      "hgnetv2_b5_metric_learning_pairce_n_6folds04_18_26\n",
      "Reading clique2tracks\n"
     ]
    },
    {
     "name": "stderr",
     "output_type": "stream",
     "text": [
      "100%|██████████████████████████████████████████████████████████████████████████████████████████████████████████████████████████████████████████████████████████████████████| 12/12 [01:24<00:00,  7.06s/it]\n",
      "100%|██████████████████████████████████████████████████████████████████████████████████████████████████████████████████████████████████████████████████████████████████████| 12/12 [01:22<00:00,  6.90s/it]\n",
      "100%|██████████████████████████████████████████████████████████████████████████████████████████████████████████████████████████████████████████████████████████████████████| 12/12 [01:21<00:00,  6.81s/it]\n",
      "100%|██████████████████████████████████████████████████████████████████████████████████████████████████████████████████████████████████████████████████████████████████████| 12/12 [01:21<00:00,  6.82s/it]\n",
      "100%|██████████████████████████████████████████████████████████████████████████████████████████████████████████████████████████████████████████████████████████████████████| 12/12 [01:21<00:00,  6.81s/it]\n",
      "100%|██████████████████████████████████████████████████████████████████████████████████████████████████████████████████████████████████████████████████████████████████████| 12/12 [01:21<00:00,  6.83s/it]\n"
     ]
    },
    {
     "name": "stdout",
     "output_type": "stream",
     "text": [
      "hgnetv2_b5_metric_learning_even_bigger_margin_drop_cliques_test_0_6_6folds02_21_14\n",
      "Skipping existing hgnetv2_b5_metric_learning_even_bigger_margin_drop_cliques_test_0_6_6folds02_21_14\n",
      "hgnetv2_b5_metric_learning_pairce_6folds04_04_29\n",
      "Skipping existing hgnetv2_b5_metric_learning_pairce_6folds04_04_29\n"
     ]
    }
   ],
   "source": [
    "for model_name in os.listdir(FINAL_ARTIFACTS):\n",
    "    print(model_name)\n",
    "    if os.path.exists(f\"{RESULTS}/{model_name}.pq\"):\n",
    "        print(f\"Skipping existing {model_name}\")\n",
    "        continue\n",
    "    try:\n",
    "        metric = name2metric[model_name]\n",
    "        predictions = get_predictions(f\"{FINAL_ARTIFACTS}/{model_name}/hydra/config\", POWER)\n",
    "        pack_to_df(predictions, metric).to_parquet(f\"{RESULTS}/{model_name}.pq\", index=False)\n",
    "    except Exception as e:\n",
    "        print(e)\n",
    "        print(\"-\" * 180)"
   ]
  },
  {
   "cell_type": "code",
   "execution_count": 20,
   "id": "0152a2a6-4d88-491f-96e1-0198225ae296",
   "metadata": {},
   "outputs": [],
   "source": [
    "data_raw_paths = glob.glob(\"results/*\")"
   ]
  },
  {
   "cell_type": "code",
   "execution_count": 21,
   "id": "1718a543-d53a-4101-b08e-2dac6414925e",
   "metadata": {},
   "outputs": [],
   "source": [
    "def save_tracks_to_file(data, output_path):\n",
    "    df = pd.DataFrame(\n",
    "        {\n",
    "            'query_trackid': list(data.keys()),\n",
    "            'track_ids': [\n",
    "                ' '.join(map(lambda x: str(int(x)), track_ids)) for track_ids in data.values()\n",
    "            ],\n",
    "        }\n",
    "    )\n",
    "    df['output'] = df['query_trackid'].astype(str) + ' ' + df['track_ids'].astype(str)\n",
    "    df.sort_values(\"query_trackid\", inplace=True)\n",
    "    df[['output']].to_csv(output_path, index=False, header=False)"
   ]
  },
  {
   "cell_type": "code",
   "execution_count": 47,
   "id": "2a487fa3-b53b-446d-a506-a5cc83992c32",
   "metadata": {},
   "outputs": [],
   "source": [
    "def adjust_score(df):\n",
    "    assert 165_510_000 == df.shape[0], f\"{df.shape[0]}\"\n",
    "    return df.with_columns(\n",
    "        (pl.col(\"metric\") * (pl.col(\"candidate_score\") + 1) / 2).alias(\"candidate_score\")\n",
    "    )\n",
    "\n",
    "def groupby_score(df, rank_fn=None):\n",
    "    res = (\n",
    "        df.group_by([\"track_id\", \"candidate_id\"])\n",
    "        .agg([\n",
    "            pl.sum(\"candidate_score\").alias(\"candidate_score_sum\"), \n",
    "            pl.count(\"candidate_score\").alias(\"candidate_cnt\"),\n",
    "        ])\n",
    "        .with_columns(\n",
    "            ((pl.col(\"candidate_score_sum\").rank(\"dense\", descending=True).over(\"track_id\") - 1) / 6).alias(\"rank_sum\")\n",
    "        )  \n",
    "        .drop([\"candidate_score_sum\"])\n",
    "    )\n",
    "    res = res.with_columns(\n",
    "        pl.lit(1).alias(\"candidate_cnt\"),\n",
    "    )\n",
    "    if rank_fn is not None:\n",
    "        res = res.with_columns(\n",
    "            rank_fn(pl.col(\"rank_sum\")).alias(\"rank_sum\")\n",
    "        )\n",
    "    return res.select([\"track_id\", \"candidate_id\", \"rank_sum\", \"candidate_cnt\"])\n",
    "\n",
    "\n",
    "def update_score(df1, df2):\n",
    "    return (\n",
    "        pl.concat([df1, df2])\n",
    "        .group_by([\"track_id\", \"candidate_id\"])\n",
    "        .agg([\n",
    "            pl.sum(\"rank_sum\").alias(\"rank_sum\"),\n",
    "            pl.sum(\"candidate_cnt\").alias(\"candidate_cnt\"),\n",
    "        ])\n",
    "        .select([\"track_id\", \"candidate_id\", \"rank_sum\", \"candidate_cnt\"])\n",
    "    )"
   ]
  },
  {
   "cell_type": "code",
   "execution_count": 91,
   "id": "80e6e36c-5b1a-4c20-86f9-d8ac3de0cf89",
   "metadata": {},
   "outputs": [],
   "source": [
    "def take_top(name2metric, topk=1):\n",
    "    return dict(sorted(name2metric.items(), key=lambda x: -x[1])[:topk])"
   ]
  },
  {
   "cell_type": "code",
   "execution_count": 93,
   "id": "016caf6c-524c-4654-a11d-b32b67915cad",
   "metadata": {},
   "outputs": [],
   "source": [
    "name2metric_copy = copy.deepcopy(name2metric)"
   ]
  },
  {
   "cell_type": "code",
   "execution_count": 94,
   "id": "0d42ec0a-a6d9-497a-b3c3-a120250d313c",
   "metadata": {},
   "outputs": [],
   "source": [
    "TOP = 12"
   ]
  },
  {
   "cell_type": "code",
   "execution_count": 95,
   "id": "0933c183-7369-45d2-8c28-716ceb4f595e",
   "metadata": {},
   "outputs": [
    {
     "name": "stderr",
     "output_type": "stream",
     "text": [
      "100%|██████████████████████████████████████████████████████████████████████████████████████████████████████████████████████████████████████████████████████████████████████| 12/12 [05:43<00:00, 28.64s/it]\n"
     ]
    }
   ],
   "source": [
    "total_df = None\n",
    "for model_name, score in tqdm(take_top(name2metric_copy, TOP).items()):\n",
    "    data = groupby_score(\n",
    "        adjust_score(pl.read_parquet(f\"{RESULTS}/{model_name}.pq\")), \n",
    "        lambda x: x,\n",
    "    )\n",
    "    if total_df is None:\n",
    "        total_df = data\n",
    "    else:\n",
    "        total_df = update_score(total_df, data)"
   ]
  },
  {
   "cell_type": "code",
   "execution_count": 96,
   "id": "327481e5-a2ed-43e7-8137-1e0ab73af2fc",
   "metadata": {},
   "outputs": [],
   "source": [
    "total_df = total_df.with_columns(\n",
    "    ((pl.col(\"rank_sum\") + POWER * (len(name2metric_copy) - pl.col(\"candidate_cnt\"))) / len(name2metric_copy)).alias(\"mean_rank\")\n",
    ")"
   ]
  },
  {
   "cell_type": "code",
   "execution_count": 97,
   "id": "3e181e2e-5af6-4c86-afb4-66060cd8113e",
   "metadata": {},
   "outputs": [],
   "source": [
    "total_df_sorted = total_df.sort([\"track_id\", \"mean_rank\"])\n",
    "\n",
    "top_100_df = (\n",
    "    total_df_sorted\n",
    "    .group_by(\"track_id\")\n",
    "    .head(100)\n",
    ")"
   ]
  },
  {
   "cell_type": "code",
   "execution_count": 98,
   "id": "0e3ec620-31d4-47dd-9533-baea24202b85",
   "metadata": {},
   "outputs": [
    {
     "data": {
      "text/html": [
       "<div><style>\n",
       ".dataframe > thead > tr,\n",
       ".dataframe > tbody > tr {\n",
       "  text-align: right;\n",
       "  white-space: pre-wrap;\n",
       "}\n",
       "</style>\n",
       "<small>shape: (5_517_000, 5)</small><table border=\"1\" class=\"dataframe\"><thead><tr><th>track_id</th><th>candidate_id</th><th>rank_sum</th><th>candidate_cnt</th><th>mean_rank</th></tr><tr><td>i64</td><td>i64</td><td>f64</td><td>i32</td><td>f64</td></tr></thead><tbody><tr><td>1</td><td>44929</td><td>20.833333</td><td>12</td><td>185.307018</td></tr><tr><td>1</td><td>27655</td><td>25.666667</td><td>12</td><td>185.561404</td></tr><tr><td>1</td><td>12945</td><td>35.666667</td><td>12</td><td>186.087719</td></tr><tr><td>1</td><td>39321</td><td>40.833333</td><td>12</td><td>186.359649</td></tr><tr><td>1</td><td>47143</td><td>40.833333</td><td>12</td><td>186.359649</td></tr><tr><td>&hellip;</td><td>&hellip;</td><td>&hellip;</td><td>&hellip;</td><td>&hellip;</td></tr><tr><td>55170</td><td>12795</td><td>411.666667</td><td>11</td><td>232.192982</td></tr><tr><td>55170</td><td>3535</td><td>431.5</td><td>11</td><td>233.236842</td></tr><tr><td>55170</td><td>13038</td><td>448.5</td><td>11</td><td>234.131579</td></tr><tr><td>55170</td><td>51742</td><td>451.666667</td><td>11</td><td>234.298246</td></tr><tr><td>55170</td><td>14674</td><td>468.5</td><td>11</td><td>235.184211</td></tr></tbody></table></div>"
      ],
      "text/plain": [
       "shape: (5_517_000, 5)\n",
       "┌──────────┬──────────────┬────────────┬───────────────┬────────────┐\n",
       "│ track_id ┆ candidate_id ┆ rank_sum   ┆ candidate_cnt ┆ mean_rank  │\n",
       "│ ---      ┆ ---          ┆ ---        ┆ ---           ┆ ---        │\n",
       "│ i64      ┆ i64          ┆ f64        ┆ i32           ┆ f64        │\n",
       "╞══════════╪══════════════╪════════════╪═══════════════╪════════════╡\n",
       "│ 1        ┆ 44929        ┆ 20.833333  ┆ 12            ┆ 185.307018 │\n",
       "│ 1        ┆ 27655        ┆ 25.666667  ┆ 12            ┆ 185.561404 │\n",
       "│ 1        ┆ 12945        ┆ 35.666667  ┆ 12            ┆ 186.087719 │\n",
       "│ 1        ┆ 39321        ┆ 40.833333  ┆ 12            ┆ 186.359649 │\n",
       "│ 1        ┆ 47143        ┆ 40.833333  ┆ 12            ┆ 186.359649 │\n",
       "│ …        ┆ …            ┆ …          ┆ …             ┆ …          │\n",
       "│ 55170    ┆ 12795        ┆ 411.666667 ┆ 11            ┆ 232.192982 │\n",
       "│ 55170    ┆ 3535         ┆ 431.5      ┆ 11            ┆ 233.236842 │\n",
       "│ 55170    ┆ 13038        ┆ 448.5      ┆ 11            ┆ 234.131579 │\n",
       "│ 55170    ┆ 51742        ┆ 451.666667 ┆ 11            ┆ 234.298246 │\n",
       "│ 55170    ┆ 14674        ┆ 468.5      ┆ 11            ┆ 235.184211 │\n",
       "└──────────┴──────────────┴────────────┴───────────────┴────────────┘"
      ]
     },
     "execution_count": 98,
     "metadata": {},
     "output_type": "execute_result"
    }
   ],
   "source": [
    "top_100_df"
   ]
  },
  {
   "cell_type": "code",
   "execution_count": 99,
   "id": "1be7711d-688f-4515-9330-779ec073993e",
   "metadata": {},
   "outputs": [],
   "source": [
    "data = defaultdict(list)\n",
    "for track_id, candidate_id in top_100_df.select([\"track_id\", \"candidate_id\"]).iter_rows():\n",
    "    data[track_id].append(candidate_id)\n",
    "\n",
    "data = dict(data)"
   ]
  },
  {
   "cell_type": "code",
   "execution_count": 100,
   "id": "2c1e8694-5b7c-4bfa-8924-a0f609d7b400",
   "metadata": {},
   "outputs": [],
   "source": [
    "save_tracks_to_file(data, \"winner_solutions/blend_v25.csv\")"
   ]
  },
  {
   "cell_type": "code",
   "execution_count": null,
   "id": "f4b693db-3052-453a-b1f1-913dcfbe3cab",
   "metadata": {},
   "outputs": [],
   "source": []
  },
  {
   "cell_type": "code",
   "execution_count": null,
   "id": "f21ec1a2-b764-4be3-b40d-c256a6d0b68e",
   "metadata": {},
   "outputs": [],
   "source": []
  },
  {
   "cell_type": "code",
   "execution_count": null,
   "id": "660aafaf-1a34-44e8-b6ce-2a5869086365",
   "metadata": {},
   "outputs": [],
   "source": []
  },
  {
   "cell_type": "code",
   "execution_count": null,
   "id": "3680aa82-1899-471c-b7ee-7e805c640d41",
   "metadata": {},
   "outputs": [],
   "source": []
  },
  {
   "cell_type": "code",
   "execution_count": null,
   "id": "449bb774-a77a-40dd-aa7f-75553d99f25e",
   "metadata": {},
   "outputs": [],
   "source": []
  },
  {
   "cell_type": "code",
   "execution_count": null,
   "id": "28db1e9b-08df-412c-b2d6-94bfa787573e",
   "metadata": {},
   "outputs": [],
   "source": []
  },
  {
   "cell_type": "code",
   "execution_count": null,
   "id": "3bbfda4b-1b4d-427b-a8a5-f6c7393f4edc",
   "metadata": {},
   "outputs": [],
   "source": []
  },
  {
   "cell_type": "code",
   "execution_count": null,
   "id": "22808f1f-96b2-451f-9616-4a5c7ff33a37",
   "metadata": {},
   "outputs": [],
   "source": []
  },
  {
   "cell_type": "code",
   "execution_count": null,
   "id": "326d50e0-78f7-4c86-ba9b-0d0c67805c40",
   "metadata": {},
   "outputs": [],
   "source": []
  },
  {
   "cell_type": "code",
   "execution_count": null,
   "id": "2fa4b649-f759-4df0-ac86-0c55d42dbbd2",
   "metadata": {},
   "outputs": [],
   "source": []
  },
  {
   "cell_type": "code",
   "execution_count": 39,
   "id": "5a5417c0-f7dd-4a82-976f-f27013c6cb3c",
   "metadata": {},
   "outputs": [],
   "source": [
    "def get_neighbors(df_path):\n",
    "    df = pd.read_csv(df_path, header=None)\n",
    "    track2sourceneighbors = {}\n",
    "    for row in df.itertuples(index=False):\n",
    "        track, *original_neighbors = map(int, row[0].split())\n",
    "        track2sourceneighbors[track] = original_neighbors\n",
    "    return track2sourceneighbors\n",
    "\n",
    "CANDIDATES_FROM_FOLDS = TOP_K = 100\n",
    "\n",
    "def reduce_by_subm(fold_top_tracks, importance_ranks=None):\n",
    "    if importance_ranks is None:\n",
    "        importance_ranks = [0] * len(fold_top_tracks)\n",
    "    ranks = {}\n",
    "    counter = {}\n",
    "    for ir, fold in zip(importance_ranks, fold_top_tracks):\n",
    "        for track_id, top_tracks in fold.items():\n",
    "            if track_id not in ranks:\n",
    "                ranks[track_id] = defaultdict(int)\n",
    "                counter[track_id] = defaultdict(int)\n",
    "            for rank, recommended_track in enumerate(top_tracks):\n",
    "                ranks[track_id][recommended_track] += ir + rank\n",
    "                counter[track_id][recommended_track] += 1\n",
    "\n",
    "    candidates_with_score = {}\n",
    "    for track_id, candidates_with_rank in ranks.items():\n",
    "        if track_id not in candidates_with_score:\n",
    "            candidates_with_score[track_id] = defaultdict(float)\n",
    "        for recommended_track, total_rank in candidates_with_rank.items():\n",
    "            cnt = counter[track_id][recommended_track]\n",
    "            total_rank += CANDIDATES_FROM_FOLDS * (len(fold_top_tracks) - cnt)\n",
    "            candidates_with_score[track_id][recommended_track] = total_rank\n",
    "\n",
    "    res = {}\n",
    "    for track_id, cws in candidates_with_score.items():\n",
    "        best_tracks = [x[0] for x in sorted(cws.items(), key=lambda x: x[1])[:TOP_K]]\n",
    "        res[track_id] = best_tracks\n",
    "\n",
    "    return res"
   ]
  },
  {
   "cell_type": "code",
   "execution_count": 89,
   "id": "2abd6f9d-ca7b-4e41-a2df-7d2ae8c3c003",
   "metadata": {},
   "outputs": [],
   "source": [
    "data = reduce_by_subm([\n",
    "    get_neighbors(\"winner_solutions/blend_v24.csv\"),\n",
    "    get_neighbors(\"winner_solutions/true_blend_v21.csv\"),\n",
    "    get_neighbors(\"winner_solutions/true_blend_v23.csv\"),\n",
    "    get_neighbors(\"winner_solutions/true_blend_v16_500.csv\"),\n",
    "    get_neighbors(\"winner_solutions/true_blend_v15.csv\"),\n",
    "    get_neighbors(\"winner_solutions/true_blend_v22.csv\"), # best\n",
    "])"
   ]
  },
  {
   "cell_type": "code",
   "execution_count": 105,
   "id": "09a89fd8-bd5d-442f-88e5-ca760a6b8021",
   "metadata": {},
   "outputs": [],
   "source": [
    "data = reduce_by_subm([\n",
    "    get_neighbors(\"winner_solutions/blend_v24.csv\"),\n",
    "    get_neighbors(\"winner_solutions/true_blend_v21.csv\"),\n",
    "    get_neighbors(\"winner_solutions/true_blend_v23.csv\"),\n",
    "    get_neighbors(\"winner_solutions/true_blend_v16_500.csv\"),\n",
    "    get_neighbors(\"winner_solutions/true_blend_v15.csv\"),\n",
    "    get_neighbors(\"winner_solutions/blend_v25.csv\"),\n",
    "    get_neighbors(\"winner_solutions/true_blend_v22.csv\"), # best\n",
    "])"
   ]
  },
  {
   "cell_type": "code",
   "execution_count": 107,
   "id": "0e9a24e1-ac81-4b9c-ae72-ff8c07b10c64",
   "metadata": {},
   "outputs": [],
   "source": [
    "data = reduce_by_subm([\n",
    "    get_neighbors(\"winner_solutions/true_blend_v25.csv\"),\n",
    "    get_neighbors(\"winner_solutions/true_blend_v24.csv\"), # best\n",
    "])"
   ]
  },
  {
   "cell_type": "code",
   "execution_count": 108,
   "id": "c2d0ea23-c6e6-4e2a-85e2-35fc36526ab3",
   "metadata": {},
   "outputs": [],
   "source": [
    "save_tracks_to_file(data, \"winner_solutions/true_blend_v25.csv\")"
   ]
  },
  {
   "cell_type": "code",
   "execution_count": 120,
   "id": "45aaa4dc-d087-4e7d-a495-ba6d19c5d353",
   "metadata": {},
   "outputs": [
    {
     "data": {
      "text/html": [
       "<div>\n",
       "<style scoped>\n",
       "    .dataframe tbody tr th:only-of-type {\n",
       "        vertical-align: middle;\n",
       "    }\n",
       "\n",
       "    .dataframe tbody tr th {\n",
       "        vertical-align: top;\n",
       "    }\n",
       "\n",
       "    .dataframe thead th {\n",
       "        text-align: right;\n",
       "    }\n",
       "</style>\n",
       "<table border=\"1\" class=\"dataframe\">\n",
       "  <thead>\n",
       "    <tr style=\"text-align: right;\">\n",
       "      <th></th>\n",
       "      <th>0</th>\n",
       "    </tr>\n",
       "  </thead>\n",
       "  <tbody>\n",
       "    <tr>\n",
       "      <th>0</th>\n",
       "      <td>1 44929 47143 27655 12945 39321 45217 18617 23...</td>\n",
       "    </tr>\n",
       "    <tr>\n",
       "      <th>1</th>\n",
       "      <td>2 20243 25683 4190 27920 43923 267 45008 18663...</td>\n",
       "    </tr>\n",
       "    <tr>\n",
       "      <th>2</th>\n",
       "      <td>3 38279 36812 13587 23722 1180 566 15846 27249...</td>\n",
       "    </tr>\n",
       "    <tr>\n",
       "      <th>3</th>\n",
       "      <td>4 25335 21167 21241 30752 47806 25663 9738 208...</td>\n",
       "    </tr>\n",
       "    <tr>\n",
       "      <th>4</th>\n",
       "      <td>5 51064 16196 40623 3449 13022 53839 22657 294...</td>\n",
       "    </tr>\n",
       "    <tr>\n",
       "      <th>5</th>\n",
       "      <td>6 44178 39897 47611 37213 27362 46376 23198 51...</td>\n",
       "    </tr>\n",
       "  </tbody>\n",
       "</table>\n",
       "</div>"
      ],
      "text/plain": [
       "                                                   0\n",
       "0  1 44929 47143 27655 12945 39321 45217 18617 23...\n",
       "1  2 20243 25683 4190 27920 43923 267 45008 18663...\n",
       "2  3 38279 36812 13587 23722 1180 566 15846 27249...\n",
       "3  4 25335 21167 21241 30752 47806 25663 9738 208...\n",
       "4  5 51064 16196 40623 3449 13022 53839 22657 294...\n",
       "5  6 44178 39897 47611 37213 27362 46376 23198 51..."
      ]
     },
     "execution_count": 120,
     "metadata": {},
     "output_type": "execute_result"
    }
   ],
   "source": [
    "pd.read_csv(\"winner_solutions/true_blend_v25.csv\", header=None).head(6)"
   ]
  },
  {
   "cell_type": "code",
   "execution_count": null,
   "id": "90866007-322d-4a99-9bcf-21ae15c517b0",
   "metadata": {},
   "outputs": [],
   "source": []
  }
 ],
 "metadata": {
  "kernelspec": {
   "display_name": "Python 3 (ipykernel)",
   "language": "python",
   "name": "python3"
  },
  "language_info": {
   "codemirror_mode": {
    "name": "ipython",
    "version": 3
   },
   "file_extension": ".py",
   "mimetype": "text/x-python",
   "name": "python",
   "nbconvert_exporter": "python",
   "pygments_lexer": "ipython3",
   "version": "3.12.7"
  }
 },
 "nbformat": 4,
 "nbformat_minor": 5
}
