{
 "cells": [
  {
   "cell_type": "code",
   "execution_count": 1,
   "id": "dfdc90ce-707d-47d7-9aa6-31b97cd1c56d",
   "metadata": {},
   "outputs": [],
   "source": [
    "%load_ext autoreload\n",
    "%autoreload 2"
   ]
  },
  {
   "cell_type": "code",
   "execution_count": 2,
   "id": "5f22e072-cfba-4b32-a7d9-60338882aacb",
   "metadata": {},
   "outputs": [],
   "source": [
    "import sys\n",
    "from pathlib import Path\n",
    "\n",
    "sys.path.append(\"../\")"
   ]
  },
  {
   "cell_type": "code",
   "execution_count": 3,
   "id": "40ffe756-88b3-4ac0-acf4-5bfa09629737",
   "metadata": {},
   "outputs": [],
   "source": [
    "def init_cfg(cfg_path):\n",
    "    from hydra import compose, initialize\n",
    "    from omegaconf import OmegaConf\n",
    "\n",
    "    with initialize(version_base=None, config_path=str(Path(cfg_path).parent)):\n",
    "        try:\n",
    "            cfg = compose(config_name=\"config\", overrides=[\"+read_filtered_clique2versions=null\"])\n",
    "        except:\n",
    "            cfg = compose(config_name=\"config\", overrides=[\"read_filtered_clique2versions=null\"])\n",
    "\n",
    "    checkpoints_folder = \"artifacts_\" + str(Path(cfg_path).parent.parent.name) + \"/model_checkpoints\"\n",
    "    cfg[\"path_to_fold_checkpoints\"] = checkpoints_folder\n",
    "    cfg[\"read_filtered_clique2versions\"] = None\n",
    "    cfg[\"environment\"][\"device\"] = \"cuda:2\"\n",
    "    return cfg"
   ]
  },
  {
   "cell_type": "code",
   "execution_count": 4,
   "id": "f962dc1a-b74a-4830-b0ce-1bcd62e73bcd",
   "metadata": {},
   "outputs": [],
   "source": [
    "import gc\n",
    "import logging\n",
    "\n",
    "import hydra\n",
    "import numpy as np\n",
    "import torch\n",
    "import torchinfo\n",
    "from dotenv import load_dotenv\n",
    "from hydra.utils import call, instantiate\n",
    "from omegaconf import DictConfig, OmegaConf\n",
    "from torch.cuda.amp import GradScaler\n",
    "\n",
    "from csi.base.utils import init_model, seed_everything\n",
    "from csi.submission import make_submission\n",
    "from csi.training.data.dataset import filter_tracks\n",
    "from csi.training.loop.loop import train_one_epoch\n",
    "from csi.training.loop.utils import (\n",
    "    clean_old_content,\n",
    "    freeze_layers,\n",
    "    load_fold_checkpoint,\n",
    "    save_checkpoint,\n",
    ")\n",
    "from csi.training.metrics.ndcg import compute_ndcg\n",
    "import numpy as np\n",
    "import torch\n",
    "from torch import nn\n",
    "from torch.utils.data import DataLoader\n",
    "\n",
    "from csi.base.model.predict import predict\n",
    "from csi.base.utils import batch_to_device\n",
    "from csi.training.loop.utils import split_by_batch_size\n",
    "from tqdm import tqdm\n",
    "from collections import defaultdict\n",
    "\n",
    "logger = logging.getLogger(__name__)\n",
    "logger.info = print\n",
    "\n",
    "from tqdm import tqdm\n",
    "import pandas as pd"
   ]
  },
  {
   "cell_type": "code",
   "execution_count": 5,
   "id": "9adbf572-b9ae-40dd-acda-52c1a4e39ec3",
   "metadata": {},
   "outputs": [],
   "source": [
    "def make_fold_submission(cfg, model, test_loader):\n",
    "    embeddings = []\n",
    "    track_ids = []\n",
    "    for batch in test_loader:\n",
    "        batch = batch_to_device(batch, cfg.environment.device)\n",
    "        outs = predict(model, batch)\n",
    "        embs = outs[\"embedding\"]\n",
    "        track_ids.append(outs[\"track_id\"].reshape(-1, 1))\n",
    "        embeddings.append(embs)\n",
    "\n",
    "    embeddings = torch.vstack(embeddings).detach().cpu().numpy()\n",
    "    track_ids = torch.vstack(track_ids).detach().cpu().numpy()\n",
    "\n",
    "    if cfg.nearest_neighbors_search.normalize_embeddings:\n",
    "        embeddings = embeddings / np.linalg.norm(embeddings, axis=1, keepdims=True)\n",
    "\n",
    "    CANDIDATES_FROM_FOLDS = 500\n",
    "    res = {}\n",
    "\n",
    "    emb_indices = np.arange(len(embeddings))\n",
    "    mini_batch_size = 5000\n",
    "    embeddingsT = embeddings.T\n",
    "    for ind in tqdm(split_by_batch_size(emb_indices, mini_batch_size)):\n",
    "        track_id_batch = track_ids[ind]\n",
    "        emb_batch = embeddings[ind]\n",
    "        similarities = np.dot(emb_batch, embeddingsT)\n",
    "        top_k_indices = np.argsort(-similarities, axis=1)[:, : CANDIDATES_FROM_FOLDS + 1]\n",
    "        top_k_indices = top_k_indices[top_k_indices != ind.reshape(-1, 1)]\n",
    "        top_tracks_similarities = np.take_along_axis(similarities, top_k_indices.reshape(len(ind), CANDIDATES_FROM_FOLDS), axis=1)\n",
    "        top_tracks = track_ids[top_k_indices].reshape(len(ind), CANDIDATES_FROM_FOLDS)\n",
    "        for track_id, tracks, sims in zip(track_id_batch.flatten(), top_tracks, top_tracks_similarities):\n",
    "            res[int(track_id)] = list(zip(tracks, sims))\n",
    "    return res"
   ]
  },
  {
   "cell_type": "code",
   "execution_count": 7,
   "id": "c2098312-51bd-4024-8353-91a9de86a6db",
   "metadata": {},
   "outputs": [],
   "source": [
    "cfg = init_cfg(\"final_artifacts/hgnetv2_b5_metric_learning_big_margin_drop_cliques_test_0_6_6folds02_19_23/hydra/config.yaml\")"
   ]
  },
  {
   "cell_type": "code",
   "execution_count": 8,
   "id": "de8c25c7-e513-4cc4-85ca-c1e64705399a",
   "metadata": {},
   "outputs": [
    {
     "name": "stdout",
     "output_type": "stream",
     "text": [
      "Reading clique2tracks\n"
     ]
    },
    {
     "name": "stderr",
     "output_type": "stream",
     "text": [
      "100%|██████████████████████████████████████████████████████████████████████████████████████████████████████████████████████████████████████████████████████████████████████| 12/12 [01:41<00:00,  8.47s/it]\n",
      "100%|██████████████████████████████████████████████████████████████████████████████████████████████████████████████████████████████████████████████████████████████████████| 12/12 [01:38<00:00,  8.21s/it]\n",
      "100%|██████████████████████████████████████████████████████████████████████████████████████████████████████████████████████████████████████████████████████████████████████| 12/12 [01:30<00:00,  7.55s/it]\n",
      "100%|██████████████████████████████████████████████████████████████████████████████████████████████████████████████████████████████████████████████████████████████████████| 12/12 [01:39<00:00,  8.26s/it]\n",
      "100%|██████████████████████████████████████████████████████████████████████████████████████████████████████████████████████████████████████████████████████████████████████| 12/12 [01:34<00:00,  7.89s/it]\n",
      "100%|██████████████████████████████████████████████████████████████████████████████████████████████████████████████████████████████████████████████████████████████████████| 12/12 [01:45<00:00,  8.76s/it]\n"
     ]
    }
   ],
   "source": [
    "seed_everything(cfg.environment.seed)\n",
    "\n",
    "logger.info(\"Reading clique2tracks\")\n",
    "clique2tracks = call(\n",
    "    cfg.read_clique2versions,\n",
    "    _convert_=\"partial\",\n",
    ")\n",
    "\n",
    "filtered_clique2tracks = call(\n",
    "    cfg.read_filtered_clique2versions,\n",
    "    _convert_=\"partial\",\n",
    ")\n",
    "\n",
    "cliques_splits = call(cfg.split_cliques, clique2tracks, _convert_=\"partial\")\n",
    "\n",
    "test_dataset = call(\n",
    "    cfg.test_data.dataset,\n",
    "    tracks_ids=np.load(cfg.test_data.test_ids_path),\n",
    "    track2clique=None,\n",
    "    clique2tracks=None,\n",
    "    _convert_=\"partial\",\n",
    ")\n",
    "test_loader = instantiate(cfg.test_data.dataloader, test_dataset, _convert_=\"partial\")\n",
    "\n",
    "\n",
    "fold_results = []\n",
    "for fold, (\n",
    "    (train_track2clique, train_clique2tracks),\n",
    "    (val_track2clique, val_clique2tracks),\n",
    ") in enumerate(cliques_splits):\n",
    "    if filtered_clique2tracks is not None:\n",
    "        train_track2clique, train_clique2tracks = filter_tracks(\n",
    "            filtered_clique2tracks, train_clique2tracks\n",
    "        )\n",
    "\n",
    "    model = init_model(cfg).to(cfg.environment.device)\n",
    "\n",
    "    if cfg.path_to_fold_checkpoints is not None:\n",
    "        model = load_fold_checkpoint(model, cfg.path_to_fold_checkpoints, fold)\n",
    "\n",
    "    if cfg.freeze_backbone_num_layers is not None:\n",
    "        model = freeze_layers(model, cfg.freeze_backbone_num_layers)\n",
    "\n",
    "    fold_results.append(\n",
    "        make_fold_submission(cfg, model, test_loader)\n",
    "    )"
   ]
  },
  {
   "cell_type": "code",
   "execution_count": 9,
   "id": "e36c6181-f423-4163-bb61-71256bd430be",
   "metadata": {},
   "outputs": [],
   "source": [
    "def reduce_by_folds(fold_top_tracks):\n",
    "    TOP_K = 100\n",
    "    \n",
    "    scores = {}\n",
    "    for fold in fold_top_tracks:\n",
    "        for track_id, top_tracks in fold.items():\n",
    "            track_id = int(track_id)\n",
    "            if track_id not in scores:\n",
    "                scores[track_id] = defaultdict(float)\n",
    "            for recommended_track, score in top_tracks:\n",
    "                scores[track_id][int(recommended_track)] += float(score)\n",
    "\n",
    "    candidates_with_adjusted_score = {}\n",
    "    for track_id, candidates_with_score in scores.items():\n",
    "        if track_id not in candidates_with_adjusted_score:\n",
    "            candidates_with_adjusted_score[track_id] = defaultdict(int)\n",
    "        for recommended_track, total_score in candidates_with_score.items():\n",
    "            candidates_with_adjusted_score[track_id][recommended_track] = total_score / len(fold_top_tracks)\n",
    "\n",
    "    res = {}\n",
    "    for track_id, cws in candidates_with_adjusted_score.items():\n",
    "        best_tracks = [x[0] for x in sorted(cws.items(), key=lambda x: -x[1])[:TOP_K]]\n",
    "        res[track_id] = best_tracks\n",
    "\n",
    "    return res, dict(candidates_with_adjusted_score)"
   ]
  },
  {
   "cell_type": "code",
   "execution_count": 10,
   "id": "1a125118-42de-4f61-ba94-40c25cffb92a",
   "metadata": {},
   "outputs": [],
   "source": [
    "final_res, sims = reduce_by_folds(fold_results)"
   ]
  },
  {
   "cell_type": "code",
   "execution_count": 50,
   "id": "f4c84abf-e2d7-4d33-afbf-a73ee645015e",
   "metadata": {},
   "outputs": [],
   "source": [
    "good_pairs = []\n",
    "total_pairs = 0 \n",
    "for track_i, top_tracks in sims.items():\n",
    "    for track_j, score in top_tracks.items():\n",
    "        total_pairs += 1\n",
    "        if score > 0.58:\n",
    "            good_pairs.append((track_i, track_j))"
   ]
  },
  {
   "cell_type": "code",
   "execution_count": 51,
   "id": "2e5d95e8-1025-4b08-849d-261d8d236880",
   "metadata": {},
   "outputs": [
    {
     "data": {
      "text/plain": [
       "79375131"
      ]
     },
     "execution_count": 51,
     "metadata": {},
     "output_type": "execute_result"
    }
   ],
   "source": [
    "total_pairs"
   ]
  },
  {
   "cell_type": "code",
   "execution_count": 52,
   "id": "6b77f1bb-3c5a-4bf5-9ab8-b74ed4e0a590",
   "metadata": {},
   "outputs": [],
   "source": [
    "import networkx as nx\n",
    "\n",
    "G = nx.Graph()\n",
    "\n",
    "G.add_edges_from(good_pairs)\n",
    "\n",
    "connected_components = list(nx.connected_components(G))\n",
    "\n",
    "new_cliques = defaultdict(list)\n",
    "track_offset = 370110\n",
    "clique_offset = 41617\n",
    "for component in connected_components:\n",
    "    for track in component:\n",
    "        new_cliques[clique_offset].append(track + track_offset)\n",
    "    clique_offset += 1\n",
    "\n",
    "new_cliques = dict(new_cliques)"
   ]
  },
  {
   "cell_type": "code",
   "execution_count": 53,
   "id": "60ebbf03-e3c6-45e8-b305-b764b652d057",
   "metadata": {},
   "outputs": [],
   "source": [
    "add_df = pd.DataFrame({\n",
    "    \"clique\": list(new_cliques.keys()),\n",
    "    \"versions\": list(new_cliques.values()),\n",
    "})"
   ]
  },
  {
   "cell_type": "code",
   "execution_count": 54,
   "id": "43600805-6f35-450b-b0c1-9c440628db1b",
   "metadata": {},
   "outputs": [
    {
     "data": {
      "text/plain": [
       "5006"
      ]
     },
     "execution_count": 54,
     "metadata": {},
     "output_type": "execute_result"
    }
   ],
   "source": [
    "len(add_df)"
   ]
  },
  {
   "cell_type": "code",
   "execution_count": 55,
   "id": "778a3b54-e716-4ad2-b2fb-d98cfe2e0352",
   "metadata": {},
   "outputs": [
    {
     "data": {
      "text/plain": [
       "np.int64(1292)"
      ]
     },
     "execution_count": 55,
     "metadata": {},
     "output_type": "execute_result"
    }
   ],
   "source": [
    "add_df[\"versions\"].str.len().max()"
   ]
  },
  {
   "cell_type": "code",
   "execution_count": 57,
   "id": "9850c7f4-9c10-4a29-a75d-87fbdf9d62dd",
   "metadata": {},
   "outputs": [],
   "source": [
    "import ast\n",
    "\n",
    "old_df = pd.read_csv(\n",
    "    \"/home/yskhnykov/yandex_cup/data/raw/cliques2versions_drop_cliques.tsv\", \n",
    "    sep=\"\\t\", \n",
    "    converters={\"versions\": ast.literal_eval}\n",
    ")"
   ]
  },
  {
   "cell_type": "code",
   "execution_count": 58,
   "id": "a5e18e82-bc0d-47e4-befb-c691a255ebb1",
   "metadata": {},
   "outputs": [
    {
     "data": {
      "text/html": [
       "<div>\n",
       "<style scoped>\n",
       "    .dataframe tbody tr th:only-of-type {\n",
       "        vertical-align: middle;\n",
       "    }\n",
       "\n",
       "    .dataframe tbody tr th {\n",
       "        vertical-align: top;\n",
       "    }\n",
       "\n",
       "    .dataframe thead th {\n",
       "        text-align: right;\n",
       "    }\n",
       "</style>\n",
       "<table border=\"1\" class=\"dataframe\">\n",
       "  <thead>\n",
       "    <tr style=\"text-align: right;\">\n",
       "      <th></th>\n",
       "      <th>clique</th>\n",
       "      <th>versions</th>\n",
       "    </tr>\n",
       "  </thead>\n",
       "  <tbody>\n",
       "    <tr>\n",
       "      <th>0</th>\n",
       "      <td>39475</td>\n",
       "      <td>[343223, 361210, 114472, 134744, 271362, 30747...</td>\n",
       "    </tr>\n",
       "    <tr>\n",
       "      <th>1</th>\n",
       "      <td>20077</td>\n",
       "      <td>[343224, 350590, 170706, 266043, 314556, 30764...</td>\n",
       "    </tr>\n",
       "    <tr>\n",
       "      <th>2</th>\n",
       "      <td>22290</td>\n",
       "      <td>[343225, 343986, 344624, 345116, 345312, 33796...</td>\n",
       "    </tr>\n",
       "    <tr>\n",
       "      <th>3</th>\n",
       "      <td>17098</td>\n",
       "      <td>[343226, 220430]</td>\n",
       "    </tr>\n",
       "    <tr>\n",
       "      <th>4</th>\n",
       "      <td>41075</td>\n",
       "      <td>[343228, 182973]</td>\n",
       "    </tr>\n",
       "    <tr>\n",
       "      <th>...</th>\n",
       "      <td>...</td>\n",
       "      <td>...</td>\n",
       "    </tr>\n",
       "    <tr>\n",
       "      <th>37492</th>\n",
       "      <td>7139</td>\n",
       "      <td>[102983, 103700]</td>\n",
       "    </tr>\n",
       "    <tr>\n",
       "      <th>37493</th>\n",
       "      <td>20120</td>\n",
       "      <td>[103390, 71338]</td>\n",
       "    </tr>\n",
       "    <tr>\n",
       "      <th>37494</th>\n",
       "      <td>16898</td>\n",
       "      <td>[70624, 76088]</td>\n",
       "    </tr>\n",
       "    <tr>\n",
       "      <th>37495</th>\n",
       "      <td>31616</td>\n",
       "      <td>[70632, 76025]</td>\n",
       "    </tr>\n",
       "    <tr>\n",
       "      <th>37496</th>\n",
       "      <td>40137</td>\n",
       "      <td>[71481, 73797]</td>\n",
       "    </tr>\n",
       "  </tbody>\n",
       "</table>\n",
       "<p>37497 rows × 2 columns</p>\n",
       "</div>"
      ],
      "text/plain": [
       "       clique                                           versions\n",
       "0       39475  [343223, 361210, 114472, 134744, 271362, 30747...\n",
       "1       20077  [343224, 350590, 170706, 266043, 314556, 30764...\n",
       "2       22290  [343225, 343986, 344624, 345116, 345312, 33796...\n",
       "3       17098                                   [343226, 220430]\n",
       "4       41075                                   [343228, 182973]\n",
       "...       ...                                                ...\n",
       "37492    7139                                   [102983, 103700]\n",
       "37493   20120                                    [103390, 71338]\n",
       "37494   16898                                     [70624, 76088]\n",
       "37495   31616                                     [70632, 76025]\n",
       "37496   40137                                     [71481, 73797]\n",
       "\n",
       "[37497 rows x 2 columns]"
      ]
     },
     "execution_count": 58,
     "metadata": {},
     "output_type": "execute_result"
    }
   ],
   "source": [
    "old_df"
   ]
  },
  {
   "cell_type": "code",
   "execution_count": 59,
   "id": "a2faea32-d145-445b-903e-40c55edb3fdd",
   "metadata": {},
   "outputs": [],
   "source": [
    "pd.concat((old_df, add_df), axis=0).to_csv(\n",
    "    \"/home/yskhnykov/yandex_cup/data/raw/cliques2versions_drop_cliques_test_0_58.tsv\", sep=\"\\t\", index=False\n",
    ")"
   ]
  },
  {
   "cell_type": "code",
   "execution_count": 60,
   "id": "b7be3e28-e4ad-43b2-9477-e8ca44c8240a",
   "metadata": {},
   "outputs": [
    {
     "data": {
      "text/plain": [
       "(42503, 2)"
      ]
     },
     "execution_count": 60,
     "metadata": {},
     "output_type": "execute_result"
    }
   ],
   "source": [
    "pd.read_csv(\"/home/yskhnykov/yandex_cup/data/raw/cliques2versions_drop_cliques_test_0_58.tsv\", sep=\"\\t\").drop_duplicates(\n",
    "    subset=[\"clique\"]\n",
    ").shape"
   ]
  },
  {
   "cell_type": "code",
   "execution_count": 61,
   "id": "c2ffe3a6-bf22-4e4d-9ac2-bca31f180854",
   "metadata": {},
   "outputs": [
    {
     "data": {
      "text/plain": [
       "np.int64(46622)"
      ]
     },
     "execution_count": 61,
     "metadata": {},
     "output_type": "execute_result"
    }
   ],
   "source": [
    "import pandas as pd\n",
    "pd.read_csv(\"/home/yskhnykov/yandex_cup/data/raw/cliques2versions_drop_cliques_test_0_58.tsv\", sep=\"\\t\")[\"clique\"].max()"
   ]
  },
  {
   "cell_type": "code",
   "execution_count": 108,
   "id": "6cf30357-b926-4ff9-a5e5-f3ba983f1a14",
   "metadata": {},
   "outputs": [
    {
     "data": {
      "text/html": [
       "<div>\n",
       "<style scoped>\n",
       "    .dataframe tbody tr th:only-of-type {\n",
       "        vertical-align: middle;\n",
       "    }\n",
       "\n",
       "    .dataframe tbody tr th {\n",
       "        vertical-align: top;\n",
       "    }\n",
       "\n",
       "    .dataframe thead th {\n",
       "        text-align: right;\n",
       "    }\n",
       "</style>\n",
       "<table border=\"1\" class=\"dataframe\">\n",
       "  <thead>\n",
       "    <tr style=\"text-align: right;\">\n",
       "      <th></th>\n",
       "      <th>clique</th>\n",
       "      <th>versions</th>\n",
       "    </tr>\n",
       "  </thead>\n",
       "  <tbody>\n",
       "    <tr>\n",
       "      <th>0</th>\n",
       "      <td>39475</td>\n",
       "      <td>[343223, 361210, 114472, 134744, 271362, 30747...</td>\n",
       "    </tr>\n",
       "    <tr>\n",
       "      <th>1</th>\n",
       "      <td>20077</td>\n",
       "      <td>[343224, 350590, 170706, 266043, 314556, 30764...</td>\n",
       "    </tr>\n",
       "    <tr>\n",
       "      <th>2</th>\n",
       "      <td>22290</td>\n",
       "      <td>[343225, 343986, 344624, 345116, 345312, 33796...</td>\n",
       "    </tr>\n",
       "    <tr>\n",
       "      <th>3</th>\n",
       "      <td>17098</td>\n",
       "      <td>[343226, 220430]</td>\n",
       "    </tr>\n",
       "    <tr>\n",
       "      <th>4</th>\n",
       "      <td>41075</td>\n",
       "      <td>[343228, 182973]</td>\n",
       "    </tr>\n",
       "    <tr>\n",
       "      <th>...</th>\n",
       "      <td>...</td>\n",
       "      <td>...</td>\n",
       "    </tr>\n",
       "    <tr>\n",
       "      <th>42616</th>\n",
       "      <td>46736</td>\n",
       "      <td>[390897, 411394]</td>\n",
       "    </tr>\n",
       "    <tr>\n",
       "      <th>42617</th>\n",
       "      <td>46737</td>\n",
       "      <td>[390585, 411445]</td>\n",
       "    </tr>\n",
       "    <tr>\n",
       "      <th>42618</th>\n",
       "      <td>46738</td>\n",
       "      <td>[388892, 412029]</td>\n",
       "    </tr>\n",
       "    <tr>\n",
       "      <th>42619</th>\n",
       "      <td>46739</td>\n",
       "      <td>[389184, 390987]</td>\n",
       "    </tr>\n",
       "    <tr>\n",
       "      <th>42620</th>\n",
       "      <td>46740</td>\n",
       "      <td>[412131, 389667]</td>\n",
       "    </tr>\n",
       "  </tbody>\n",
       "</table>\n",
       "<p>42621 rows × 2 columns</p>\n",
       "</div>"
      ],
      "text/plain": [
       "       clique                                           versions\n",
       "0       39475  [343223, 361210, 114472, 134744, 271362, 30747...\n",
       "1       20077  [343224, 350590, 170706, 266043, 314556, 30764...\n",
       "2       22290  [343225, 343986, 344624, 345116, 345312, 33796...\n",
       "3       17098                                   [343226, 220430]\n",
       "4       41075                                   [343228, 182973]\n",
       "...       ...                                                ...\n",
       "42616   46736                                   [390897, 411394]\n",
       "42617   46737                                   [390585, 411445]\n",
       "42618   46738                                   [388892, 412029]\n",
       "42619   46739                                   [389184, 390987]\n",
       "42620   46740                                   [412131, 389667]\n",
       "\n",
       "[42621 rows x 2 columns]"
      ]
     },
     "execution_count": 108,
     "metadata": {},
     "output_type": "execute_result"
    }
   ],
   "source": [
    "pd.read_csv(\"/home/yskhnykov/yandex_cup/data/raw/cliques2versions_drop_cliques_test_0_6.tsv\", sep=\"\\t\")"
   ]
  },
  {
   "cell_type": "code",
   "execution_count": 87,
   "id": "4cd6ec5a-7095-43a6-aa15-b5b15b5e5fae",
   "metadata": {},
   "outputs": [
    {
     "data": {
      "text/html": [
       "<div>\n",
       "<style scoped>\n",
       "    .dataframe tbody tr th:only-of-type {\n",
       "        vertical-align: middle;\n",
       "    }\n",
       "\n",
       "    .dataframe tbody tr th {\n",
       "        vertical-align: top;\n",
       "    }\n",
       "\n",
       "    .dataframe thead th {\n",
       "        text-align: right;\n",
       "    }\n",
       "</style>\n",
       "<table border=\"1\" class=\"dataframe\">\n",
       "  <thead>\n",
       "    <tr style=\"text-align: right;\">\n",
       "      <th></th>\n",
       "      <th>clique</th>\n",
       "      <th>versions</th>\n",
       "    </tr>\n",
       "  </thead>\n",
       "  <tbody>\n",
       "    <tr>\n",
       "      <th>0</th>\n",
       "      <td>41617</td>\n",
       "      <td>[418609, 414365]</td>\n",
       "    </tr>\n",
       "    <tr>\n",
       "      <th>1</th>\n",
       "      <td>41618</td>\n",
       "      <td>[373602, 400323]</td>\n",
       "    </tr>\n",
       "    <tr>\n",
       "      <th>2</th>\n",
       "      <td>41619</td>\n",
       "      <td>[376896, 421368]</td>\n",
       "    </tr>\n",
       "    <tr>\n",
       "      <th>3</th>\n",
       "      <td>41620</td>\n",
       "      <td>[412774, 376930]</td>\n",
       "    </tr>\n",
       "    <tr>\n",
       "      <th>4</th>\n",
       "      <td>41621</td>\n",
       "      <td>[380761, 407682]</td>\n",
       "    </tr>\n",
       "    <tr>\n",
       "      <th>...</th>\n",
       "      <td>...</td>\n",
       "      <td>...</td>\n",
       "    </tr>\n",
       "    <tr>\n",
       "      <th>898</th>\n",
       "      <td>42515</td>\n",
       "      <td>[390742, 397576]</td>\n",
       "    </tr>\n",
       "    <tr>\n",
       "      <th>899</th>\n",
       "      <td>42516</td>\n",
       "      <td>[393905, 396050]</td>\n",
       "    </tr>\n",
       "    <tr>\n",
       "      <th>900</th>\n",
       "      <td>42517</td>\n",
       "      <td>[397307, 395533]</td>\n",
       "    </tr>\n",
       "    <tr>\n",
       "      <th>901</th>\n",
       "      <td>42518</td>\n",
       "      <td>[401789, 398877]</td>\n",
       "    </tr>\n",
       "    <tr>\n",
       "      <th>902</th>\n",
       "      <td>42519</td>\n",
       "      <td>[403991, 408869]</td>\n",
       "    </tr>\n",
       "  </tbody>\n",
       "</table>\n",
       "<p>903 rows × 2 columns</p>\n",
       "</div>"
      ],
      "text/plain": [
       "     clique          versions\n",
       "0     41617  [418609, 414365]\n",
       "1     41618  [373602, 400323]\n",
       "2     41619  [376896, 421368]\n",
       "3     41620  [412774, 376930]\n",
       "4     41621  [380761, 407682]\n",
       "..      ...               ...\n",
       "898   42515  [390742, 397576]\n",
       "899   42516  [393905, 396050]\n",
       "900   42517  [397307, 395533]\n",
       "901   42518  [401789, 398877]\n",
       "902   42519  [403991, 408869]\n",
       "\n",
       "[903 rows x 2 columns]"
      ]
     },
     "execution_count": 87,
     "metadata": {},
     "output_type": "execute_result"
    }
   ],
   "source": [
    "add_df"
   ]
  },
  {
   "cell_type": "code",
   "execution_count": null,
   "id": "2d7a415e-0b42-4600-bf07-36237ae53143",
   "metadata": {},
   "outputs": [],
   "source": []
  },
  {
   "cell_type": "code",
   "execution_count": 31,
   "id": "b595c79b-1d0e-4673-8f69-6dfbff9695f4",
   "metadata": {},
   "outputs": [],
   "source": [
    "import pandas as pd\n",
    "import ast\n",
    "\n",
    "df = pd.read_csv(\n",
    "    \"/home/yskhnykov/yandex_cup/data/raw/cliques2versions_cleaned_axis_0_1_3.tsv\", sep=\"\\t\", converters={\"versions\": ast.literal_eval}\n",
    ")"
   ]
  },
  {
   "cell_type": "code",
   "execution_count": 32,
   "id": "6e6cd721-13e0-4c15-a90b-02c273f486cf",
   "metadata": {},
   "outputs": [
    {
     "data": {
      "text/plain": [
       "(41596, 2)"
      ]
     },
     "execution_count": 32,
     "metadata": {},
     "output_type": "execute_result"
    }
   ],
   "source": [
    "df.shape"
   ]
  },
  {
   "cell_type": "code",
   "execution_count": 10,
   "id": "91deecf3-7381-452b-9087-0f50d81e687e",
   "metadata": {},
   "outputs": [],
   "source": [
    "def save_tracks_to_file(data, output_path):\n",
    "    import pandas as pd\n",
    "    df = pd.DataFrame(\n",
    "        {\n",
    "            'query_trackid': list(data.keys()),\n",
    "            'track_ids': [\n",
    "                ' '.join(map(lambda x: str(int(x)), track_ids)) for track_ids in data.values()\n",
    "            ],\n",
    "        }\n",
    "    )\n",
    "    df['output'] = df['query_trackid'].astype(str) + ' ' + df['track_ids'].astype(str)\n",
    "    df.sort_values(\"query_trackid\", inplace=True)\n",
    "    df[['output']].to_csv(output_path, index=False, header=False)"
   ]
  },
  {
   "cell_type": "code",
   "execution_count": 11,
   "id": "fd56cf8d-fc8b-4476-9016-0071b88fd8b9",
   "metadata": {},
   "outputs": [],
   "source": [
    "save_tracks_to_file(final_res, \"submission_distances.csv\")"
   ]
  },
  {
   "cell_type": "code",
   "execution_count": 57,
   "id": "38c906fc-79fc-49e6-bfd2-7301e905f661",
   "metadata": {},
   "outputs": [
    {
     "data": {
      "text/html": [
       "<div>\n",
       "<style scoped>\n",
       "    .dataframe tbody tr th:only-of-type {\n",
       "        vertical-align: middle;\n",
       "    }\n",
       "\n",
       "    .dataframe tbody tr th {\n",
       "        vertical-align: top;\n",
       "    }\n",
       "\n",
       "    .dataframe thead th {\n",
       "        text-align: right;\n",
       "    }\n",
       "</style>\n",
       "<table border=\"1\" class=\"dataframe\">\n",
       "  <thead>\n",
       "    <tr style=\"text-align: right;\">\n",
       "      <th></th>\n",
       "      <th>clique</th>\n",
       "      <th>versions</th>\n",
       "    </tr>\n",
       "  </thead>\n",
       "  <tbody>\n",
       "    <tr>\n",
       "      <th>0</th>\n",
       "      <td>39475</td>\n",
       "      <td>[343223, 361210, 114472, 134744, 271362, 30747...</td>\n",
       "    </tr>\n",
       "    <tr>\n",
       "      <th>1</th>\n",
       "      <td>20077</td>\n",
       "      <td>[343224, 350590, 170706, 266043, 314556, 30764...</td>\n",
       "    </tr>\n",
       "    <tr>\n",
       "      <th>2</th>\n",
       "      <td>22290</td>\n",
       "      <td>[343225, 343986, 344624, 345116, 345312, 33796...</td>\n",
       "    </tr>\n",
       "    <tr>\n",
       "      <th>3</th>\n",
       "      <td>17098</td>\n",
       "      <td>[343226, 220430]</td>\n",
       "    </tr>\n",
       "    <tr>\n",
       "      <th>4</th>\n",
       "      <td>41075</td>\n",
       "      <td>[343228, 182973]</td>\n",
       "    </tr>\n",
       "    <tr>\n",
       "      <th>...</th>\n",
       "      <td>...</td>\n",
       "      <td>...</td>\n",
       "    </tr>\n",
       "    <tr>\n",
       "      <th>37492</th>\n",
       "      <td>7139</td>\n",
       "      <td>[102983, 103700]</td>\n",
       "    </tr>\n",
       "    <tr>\n",
       "      <th>37493</th>\n",
       "      <td>20120</td>\n",
       "      <td>[103390, 71338]</td>\n",
       "    </tr>\n",
       "    <tr>\n",
       "      <th>37494</th>\n",
       "      <td>16898</td>\n",
       "      <td>[70624, 76088]</td>\n",
       "    </tr>\n",
       "    <tr>\n",
       "      <th>37495</th>\n",
       "      <td>31616</td>\n",
       "      <td>[70632, 76025]</td>\n",
       "    </tr>\n",
       "    <tr>\n",
       "      <th>37496</th>\n",
       "      <td>40137</td>\n",
       "      <td>[71481, 73797]</td>\n",
       "    </tr>\n",
       "  </tbody>\n",
       "</table>\n",
       "<p>37497 rows × 2 columns</p>\n",
       "</div>"
      ],
      "text/plain": [
       "       clique                                           versions\n",
       "0       39475  [343223, 361210, 114472, 134744, 271362, 30747...\n",
       "1       20077  [343224, 350590, 170706, 266043, 314556, 30764...\n",
       "2       22290  [343225, 343986, 344624, 345116, 345312, 33796...\n",
       "3       17098                                   [343226, 220430]\n",
       "4       41075                                   [343228, 182973]\n",
       "...       ...                                                ...\n",
       "37492    7139                                   [102983, 103700]\n",
       "37493   20120                                    [103390, 71338]\n",
       "37494   16898                                     [70624, 76088]\n",
       "37495   31616                                     [70632, 76025]\n",
       "37496   40137                                     [71481, 73797]\n",
       "\n",
       "[37497 rows x 2 columns]"
      ]
     },
     "execution_count": 57,
     "metadata": {},
     "output_type": "execute_result"
    }
   ],
   "source": []
  },
  {
   "cell_type": "code",
   "execution_count": 87,
   "id": "737bd4b6-518c-4eee-961d-33853f9b7b8c",
   "metadata": {},
   "outputs": [],
   "source": [
    "import pandas as pd\n",
    "import ast\n",
    "def read_clique2versions(clique2versions_path: str) -> dict[int, list[int]]:\n",
    "    import ast\n",
    "    df = pd.read_csv(clique2versions_path, sep=\"\\t\", converters={\"versions\": ast.literal_eval})\n",
    "    clique2tracks = df.set_index(\"clique\")[\"versions\"].to_dict()\n",
    "    return clique2tracks"
   ]
  },
  {
   "cell_type": "code",
   "execution_count": 88,
   "id": "92499451-39bc-4189-acce-23bb34d6d738",
   "metadata": {},
   "outputs": [],
   "source": [
    "df = pd.read_csv(\"/home/yskhnykov/yandex_cup/data/raw/cliques2versions_cleaned_axis_0_1_3.tsv\", sep=\"\\t\", converters={\"versions\": ast.literal_eval})"
   ]
  },
  {
   "cell_type": "code",
   "execution_count": 89,
   "id": "8a16e6aa-f619-4075-a352-6dd3fec0418c",
   "metadata": {},
   "outputs": [],
   "source": [
    "df[~df[\"clique\"].isin(bad_cliques)].to_csv(\"/home/yskhnykov/yandex_cup/data/raw/cliques2versions_drop_cliques_2_5k.tsv\", sep=\"\\t\", index=False)"
   ]
  },
  {
   "cell_type": "code",
   "execution_count": 34,
   "id": "a21f0008-bafd-48af-ba24-e8b4fc247014",
   "metadata": {},
   "outputs": [],
   "source": [
    "f = pd.read_csv(\"/home/yskhnykov/yandex_cup/data/raw/cliques2versions_drop_cliques.tsv\", sep=\"\\t\", converters={\"versions\": ast.literal_eval})"
   ]
  },
  {
   "cell_type": "code",
   "execution_count": 36,
   "id": "bbee7d20-4b28-4122-9e23-8d66925fae9c",
   "metadata": {},
   "outputs": [
    {
     "data": {
      "text/plain": [
       "np.int64(41616)"
      ]
     },
     "execution_count": 36,
     "metadata": {},
     "output_type": "execute_result"
    }
   ],
   "source": [
    "f[\"clique\"].max()"
   ]
  },
  {
   "cell_type": "code",
   "execution_count": 51,
   "id": "0b36987a-ba0a-42bc-8cf4-6ddb94d1b12b",
   "metadata": {},
   "outputs": [
    {
     "data": {
      "text/html": [
       "<div>\n",
       "<style scoped>\n",
       "    .dataframe tbody tr th:only-of-type {\n",
       "        vertical-align: middle;\n",
       "    }\n",
       "\n",
       "    .dataframe tbody tr th {\n",
       "        vertical-align: top;\n",
       "    }\n",
       "\n",
       "    .dataframe thead th {\n",
       "        text-align: right;\n",
       "    }\n",
       "</style>\n",
       "<table border=\"1\" class=\"dataframe\">\n",
       "  <thead>\n",
       "    <tr style=\"text-align: right;\">\n",
       "      <th></th>\n",
       "      <th>clique</th>\n",
       "      <th>versions</th>\n",
       "    </tr>\n",
       "  </thead>\n",
       "  <tbody>\n",
       "    <tr>\n",
       "      <th>0</th>\n",
       "      <td>39475</td>\n",
       "      <td>[343223, 361210, 114472, 134744, 271362, 30747...</td>\n",
       "    </tr>\n",
       "    <tr>\n",
       "      <th>1</th>\n",
       "      <td>20077</td>\n",
       "      <td>[343224, 350590, 170706, 266043, 314556, 30764...</td>\n",
       "    </tr>\n",
       "    <tr>\n",
       "      <th>2</th>\n",
       "      <td>22290</td>\n",
       "      <td>[343225, 343986, 344624, 345116, 345312, 33796...</td>\n",
       "    </tr>\n",
       "    <tr>\n",
       "      <th>3</th>\n",
       "      <td>17098</td>\n",
       "      <td>[343226, 220430]</td>\n",
       "    </tr>\n",
       "    <tr>\n",
       "      <th>4</th>\n",
       "      <td>41075</td>\n",
       "      <td>[343228, 182973]</td>\n",
       "    </tr>\n",
       "    <tr>\n",
       "      <th>...</th>\n",
       "      <td>...</td>\n",
       "      <td>...</td>\n",
       "    </tr>\n",
       "    <tr>\n",
       "      <th>37492</th>\n",
       "      <td>7139</td>\n",
       "      <td>[102983, 103700]</td>\n",
       "    </tr>\n",
       "    <tr>\n",
       "      <th>37493</th>\n",
       "      <td>20120</td>\n",
       "      <td>[103390, 71338]</td>\n",
       "    </tr>\n",
       "    <tr>\n",
       "      <th>37494</th>\n",
       "      <td>16898</td>\n",
       "      <td>[70624, 76088]</td>\n",
       "    </tr>\n",
       "    <tr>\n",
       "      <th>37495</th>\n",
       "      <td>31616</td>\n",
       "      <td>[70632, 76025]</td>\n",
       "    </tr>\n",
       "    <tr>\n",
       "      <th>37496</th>\n",
       "      <td>40137</td>\n",
       "      <td>[71481, 73797]</td>\n",
       "    </tr>\n",
       "  </tbody>\n",
       "</table>\n",
       "<p>37497 rows × 2 columns</p>\n",
       "</div>"
      ],
      "text/plain": [
       "       clique                                           versions\n",
       "0       39475  [343223, 361210, 114472, 134744, 271362, 30747...\n",
       "1       20077  [343224, 350590, 170706, 266043, 314556, 30764...\n",
       "2       22290  [343225, 343986, 344624, 345116, 345312, 33796...\n",
       "3       17098                                   [343226, 220430]\n",
       "4       41075                                   [343228, 182973]\n",
       "...       ...                                                ...\n",
       "37492    7139                                   [102983, 103700]\n",
       "37493   20120                                    [103390, 71338]\n",
       "37494   16898                                     [70624, 76088]\n",
       "37495   31616                                     [70632, 76025]\n",
       "37496   40137                                     [71481, 73797]\n",
       "\n",
       "[37497 rows x 2 columns]"
      ]
     },
     "execution_count": 51,
     "metadata": {},
     "output_type": "execute_result"
    }
   ],
   "source": [
    "f"
   ]
  },
  {
   "cell_type": "code",
   "execution_count": 60,
   "id": "21baadc1-7034-4b08-b360-bdc0e4020283",
   "metadata": {},
   "outputs": [
    {
     "data": {
      "text/plain": [
       "41616"
      ]
     },
     "execution_count": 60,
     "metadata": {},
     "output_type": "execute_result"
    }
   ],
   "source": [
    "len(clique2min_sim)"
   ]
  },
  {
   "cell_type": "code",
   "execution_count": null,
   "id": "da8a6f33-5f12-4ef3-8442-e5fd01af8cbf",
   "metadata": {},
   "outputs": [],
   "source": []
  }
 ],
 "metadata": {
  "kernelspec": {
   "display_name": "Python 3 (ipykernel)",
   "language": "python",
   "name": "python3"
  },
  "language_info": {
   "codemirror_mode": {
    "name": "ipython",
    "version": 3
   },
   "file_extension": ".py",
   "mimetype": "text/x-python",
   "name": "python",
   "nbconvert_exporter": "python",
   "pygments_lexer": "ipython3",
   "version": "3.12.7"
  }
 },
 "nbformat": 4,
 "nbformat_minor": 5
}
